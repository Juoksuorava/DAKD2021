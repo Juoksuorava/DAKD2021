{
 "cells": [
  {
   "cell_type": "markdown",
   "metadata": {
    "id": "fRx75YvD3BPW"
   },
   "source": [
    "Lauri Orava <br>\n",
    "516761 <br>\n",
    "laorav@utu.fi  <br>\n",
    "6.12.2021  <br>"
   ]
  },
  {
   "cell_type": "markdown",
   "metadata": {
    "id": "Rpio-nMAoDwq"
   },
   "source": [
    "# Data Analysis and Knowledge Discovery: Exercise 3, Supervised learning"
   ]
  },
  {
   "cell_type": "markdown",
   "metadata": {
    "id": "90c9fF6woDwr"
   },
   "source": [
    "This is the template for the third exercise. The idea of this exercise is to apply supervised learning to predict the ship type using certain attributes (speed, destination harbour...) and a K nearest neighbors (kNN) classifier.\n",
    "\n",
    "### General guidance for exercises \n",
    "\n",
    "- Answer **all** questions below, even if you can't get your script to fully work\n",
    "- Write clear and easily readable code, include explanations what your code does\n",
    "- Make informative illustrations: include labels for x and y axes, legends and captions for your plots\n",
    "- Before saving the ipynb file (and possible printing) run: \"Restart & Run all\", to make sure you return a file that works as expected.\n",
    "- Grading: *Fail*/*Pass*/*Pass with honors* (+1)\n",
    "- +1 bonus point (grading *Pass with honors*) requires a **completely** correct solution and also thorough analysis. \n",
    "- If you encounter problems, Google first. If you can't find an answer to the problem, don't hesitate to ask in the Moodle discussion or directly via moodle chat or email from the course assistant responsible for the exercise, Valtteri Nieminen, vajnie@utu.fi <font color = red></font>\n",
    "- Note! Don't leave it to the last moment! No feedback service during weekends.\n",
    "- The deadline is <font color = red> on 6.12, 19:00</font>\n",
    "- Using the colors for titles in markdown makes the document more readable and easier to check. "
   ]
  },
  {
   "cell_type": "markdown",
   "metadata": {},
   "source": [
    "- This excercise is a bit more freeform than the last one and you don't have to stick to only the cells that are already in the notebook - you can make more if you need to, but it is advisable to comment on new cells what the cell is related to. \n",
    "- There are also added summaries of whats included inthe subparts of exercises  just to help you get a better picture of what is required. You will still answer these excercises under their own titles."
   ]
  },
  {
   "cell_type": "markdown",
   "metadata": {
    "id": "2I2WLapM3BPc"
   },
   "source": [
    "### Gather **all** packages needed for this notebook here:\n",
    "- you can use other packages as well, but this excercise can be completed with those below"
   ]
  },
  {
   "cell_type": "code",
   "execution_count": 318,
   "metadata": {
    "id": "iypIAVquoDws"
   },
   "outputs": [],
   "source": [
    "import numpy as np\n",
    "import pandas as pd\n",
    "import seaborn as sb\n",
    "import matplotlib.pyplot as plt\n",
    "import math as math\n",
    "import sklearn as sklearn\n",
    "import random as random\n",
    "from sklearn.preprocessing import StandardScaler\n",
    "from sklearn.model_selection import train_test_split\n",
    "from sklearn.neighbors import KNeighborsClassifier\n",
    "from sklearn.metrics import confusion_matrix, classification_report\n",
    "from sklearn import metrics\n",
    "from sklearn.model_selection import LeaveOneOut\n",
    "from statistics import mean"
   ]
  },
  {
   "cell_type": "markdown",
   "metadata": {
    "id": "ieiIXrrwoDws"
   },
   "source": [
    "________\n",
    "## <font color = dimgrey> Data import </font> \n"
   ]
  },
  {
   "cell_type": "code",
   "execution_count": 319,
   "metadata": {},
   "outputs": [],
   "source": [
    "data_path = \"https://raw.githubusercontent.com/vajnie/DADK_2021/main/shipdata_2021.csv\""
   ]
  },
  {
   "cell_type": "code",
   "execution_count": 320,
   "metadata": {
    "id": "_Swh8BxGoDwu",
    "outputId": "ea60da51-725b-443b-faad-2865fb9fc6db"
   },
   "outputs": [],
   "source": [
    "#Import the data here\n",
    "data = pd.read_csv(data_path) #data is presumed to be in the same folder. "
   ]
  },
  {
   "cell_type": "markdown",
   "metadata": {
    "id": "Wte8FnIsoDwv"
   },
   "source": [
    "_______________\n",
    "## <font color = dimgrey> 1) Data preprocessing\n",
    "Below are all the questions related to this topic, but you should put them under their own respective titles that are found below."
   ]
  },
  {
   "cell_type": "markdown",
   "metadata": {
    "id": "d9plIRaMoDww"
   },
   "source": [
    "- a) First, find out how many different destinations there are in the data. Do you need to make any preprocessing? **1p** <br>\n",
    "- b) Destination harbor is a categorical variable. It needs to be converted into a numerical representation. Explain, why do you need to make this step? You can use get_dummies from pandas to implement one-hot coding for categorical features **1p**\n",
    "\n",
    "- c) Plot Gross tonnage versus the ship Length. Use different colors for different ship types. According to the plot, there is one <b> clear outlier. </b>  Correct the outlying value by changing it to the value 326 and rerun the plot after you have made the correction. **1p**\n",
    "- d) It is good to exploit domain knowledge and make some reasonable transformation to the feature values to improve the expected results and/or to avoid redundancy. Find out what gross tonnage means. Make some transformation to Length values to acquire a linear relationship between the transformed length and Gross tonnage values. You can find the needed information  https://en.wikipedia.org/wiki/Gross_tonnage. Look at the formula and think how you can get the two variables similarly scaled. If you are having trouble, just experiment with different transformations before asking help. By plotting you can see what the relationship looks like after a transformation you have tried **1p**\n",
    "- e) The numerical variables have quite different ranges. To ensure that all variables can have the same importance on the model, perform Z-score standardization. Perform it for speed, the ***transformed length*** variable, and breadth **1p**\n",
    "_______________________"
   ]
  },
  {
   "cell_type": "markdown",
   "metadata": {
    "id": "hSCTfqgpoDwx"
   },
   "source": [
    "#### <font color = dimgrey> a) Find out how many different destinations there are in the data. Are there any mistakes and do you need to do any preprocessing? Give your code and answer below **1p** </font>"
   ]
  },
  {
   "cell_type": "code",
   "execution_count": 321,
   "metadata": {
    "id": "akrvbi4xoDwy",
    "outputId": "b5e1d60a-2384-4dc4-de31-303cd0fdb7a6"
   },
   "outputs": [
    {
     "name": "stdout",
     "output_type": "stream",
     "text": [
      "Amount of destinations:  17\n"
     ]
    }
   ],
   "source": [
    "### Code for 1.a) \n",
    "\n",
    "#create a cross table, rows = destinations, columns = ship types\n",
    "ct1 = pd.crosstab(data['Destination'], data['Ship_type'])\n",
    "#count how many rows (= destinations) there are\n",
    "row_count = ct1.shape[0]\n",
    "print(\"Amount of destinations: \", row_count)"
   ]
  },
  {
   "cell_type": "markdown",
   "metadata": {},
   "source": [
    "<font color = red> \\*** Answer here ***"
   ]
  },
  {
   "cell_type": "markdown",
   "metadata": {
    "id": "9BrZ_bsToDwy"
   },
   "source": [
    "____________\n",
    "#### <font color = dimgrey> b) Destination harbor is a categorical variable. It needs to be somehow converted into a numerical expression. Explain, why do you need to make this step? \n",
    "You can use get_dummies from pandas to implement onehot coding for categorical features **1p**"
   ]
  },
  {
   "cell_type": "code",
   "execution_count": 322,
   "metadata": {
    "id": "LrrstGzeoDwz",
    "outputId": "819497fd-43db-4a61-a100-af1cd5bb9085"
   },
   "outputs": [],
   "source": [
    "### Code for 1.b)\n",
    "\n",
    "dst_dummy = pd.get_dummies(data['Destination'])"
   ]
  },
  {
   "cell_type": "markdown",
   "metadata": {},
   "source": [
    "<font color = red> \\*** Answer to 1b *** </font>\n",
    "\n",
    "Categorial variables can be used for analysis like quantitive variables, if they are first converted into dummy variable."
   ]
  },
  {
   "cell_type": "markdown",
   "metadata": {
    "id": "3rEY4Vf6oDwz"
   },
   "source": [
    "_______________\n",
    "####  <font color = dimgrey> c) Plot Gross tonnage versus the ship Length. \n",
    "\n",
    "- Use different colors for different ship types. According to the plot, there is one <b> clear </b> outlier. <b> Correct the outlying value by changing it to the value 326 </b> and rerun the plot after you have made the correction. **1p**\n",
    "- If you want to do things very nicely you could wrap the plotting in a function so you don't paste the same code twice, but this is not required."
   ]
  },
  {
   "cell_type": "code",
   "execution_count": 323,
   "metadata": {
    "id": "q2rk7xP1oDwz",
    "outputId": "fa2c0480-18c7-4e41-cc31-a77dc1cfa5ab"
   },
   "outputs": [
    {
     "data": {
      "text/plain": [
       "Text(0.5, 1.0, 'Gross tonnage vs. Ship length')"
      ]
     },
     "execution_count": 323,
     "metadata": {},
     "output_type": "execute_result"
    },
    {
     "data": {
      "image/png": "[encoded data removed]",
      "text/plain": [
       "<Figure size 576x720 with 1 Axes>"
      ]
     },
     "metadata": {
      "needs_background": "light"
     },
     "output_type": "display_data"
    }
   ],
   "source": [
    "### Code for 1 c) plot with the outlier \n",
    "\n",
    "plt.figure(figsize = [8,10])\n",
    "plt.subplot(3,1,1)\n",
    "sb.scatterplot(x='Length', y='Gross_tonnage',  hue='Ship_type', data = data)\n",
    "plt.title('Gross tonnage vs. Ship length')"
   ]
  },
  {
   "cell_type": "code",
   "execution_count": 324,
   "metadata": {
    "id": "KbFj25Z1oDw0",
    "outputId": "4de8d8fe-b906-4f0d-afe5-a19468d2ecb3"
   },
   "outputs": [],
   "source": [
    "### Code for 1 c) find the outlier and replot\n",
    "\n",
    "#drop the outlier manually\n",
    "data.loc[(data['Gross_tonnage'] > 20000) & (data['Length'] < 50), ['Gross_tonnage']] = '326'\n"
   ]
  },
  {
   "cell_type": "code",
   "execution_count": 325,
   "metadata": {},
   "outputs": [
    {
     "data": {
      "text/plain": [
       "Text(0.5, 1.0, 'Gross tonnage vs. Ship length')"
      ]
     },
     "execution_count": 325,
     "metadata": {},
     "output_type": "execute_result"
    },
    {
     "data": {
      "image/png": "[encoded data removed]",
      "text/plain": [
       "<Figure size 576x720 with 1 Axes>"
      ]
     },
     "metadata": {
      "needs_background": "light"
     },
     "output_type": "display_data"
    }
   ],
   "source": [
    "### Code for 1 c) rerun the plot with the correction made\n",
    "\n",
    "plt.figure(figsize = [8,10])\n",
    "plt.subplot(3,1,1)\n",
    "sb.scatterplot(x='Length', y='Gross_tonnage', hue='Ship_type', data = data)\n",
    "plt.title('Gross tonnage vs. Ship length')"
   ]
  },
  {
   "cell_type": "markdown",
   "metadata": {
    "id": "SPBpWAZNoDw0"
   },
   "source": [
    "#### <font color = dimgrey> d) Exploit your domain knowledge and transform to improve the expected results and/or to avoid redundancy. \n",
    "- Find out what gross tonnage means. Make some transformation to Length values to acquire a linear relationship between the transformed length and Gross tonnage values. Plot the situation after the transformation **1p** \n",
    "- You can find the needed information in for example https://en.wikipedia.org/wiki/Gross_tonnage. Look at the formula and think how you can get the two variables similarly scaled. If you are having trouble, just experiment with different transformations before asking help. By plotting you can see what the relationship looks like after a transformation you have tried\n",
    "  "
   ]
  },
  {
   "cell_type": "code",
   "execution_count": 326,
   "metadata": {
    "id": "Zjf5fmb3oDw1",
    "outputId": "9eea64d6-470d-42fb-bd97-282b786c798f"
   },
   "outputs": [
    {
     "data": {
      "text/plain": [
       "Text(0.5, 1.0, 'Gross tonnage vs. Transformed ship length with fixed outlier')"
      ]
     },
     "execution_count": 326,
     "metadata": {},
     "output_type": "execute_result"
    },
    {
     "data": {
      "image/png": "[encoded data removed]",
      "text/plain": [
       "<Figure size 576x720 with 1 Axes>"
      ]
     },
     "metadata": {
      "needs_background": "light"
     },
     "output_type": "display_data"
    }
   ],
   "source": [
    "### Code for 1d \n",
    "\n",
    "#transformation = x^3\n",
    "length_tf = data['Length']**3 \n",
    "#adds the transformed length to the data frame\n",
    "data2 = pd.concat([data, length_tf], axis = 1) \n",
    "data2.columns = ['MMSI', 'Speed', 'COG', 'Destination', 'Ship_type', 'Gross_tonnage', 'Length', 'Breadth', 'Length_tf'] \n",
    "\n",
    "#plot using fixed data with transformed lengths\n",
    "plt.figure(figsize = [8,10])\n",
    "plt.subplot(3,1,3)\n",
    "sb.scatterplot(x='Length_tf', y='Gross_tonnage',  hue = 'Ship_type', data = data2) \n",
    "plt.title('Gross tonnage vs. Transformed ship length with fixed outlier')"
   ]
  },
  {
   "cell_type": "markdown",
   "metadata": {
    "id": "M5-BsrlKoDw1"
   },
   "source": [
    "<font color = red> \\*** Answer here *** what does gross tonnage mean? What transformation did you do? Why is it useful? </font>\n",
    "\n",
    "Gross tonnage is a nonlinear measure of a ship's overall internal volume. I raised the length to the power of 3. This transformation made the scatter plot grow linearly."
   ]
  },
  {
   "cell_type": "markdown",
   "metadata": {
    "id": "_0oDznjPoDw1"
   },
   "source": [
    "#### <font color = dimgrey> e) The numerical variables have quite different ranges. To ensure that all variables can have the same importance on the model, perform Z-score standardization. Perform it for speed, transformed length, and breadth **1p**"
   ]
  },
  {
   "cell_type": "code",
   "execution_count": 327,
   "metadata": {
    "id": "17g51D6NoDw2",
    "outputId": "ccfcf1cd-459c-4a8a-f3cd-ab711c1f9aea"
   },
   "outputs": [],
   "source": [
    "### Code for 1e\n",
    "\n",
    "#separates the desired variables into a new data frame\n",
    "zs1 = pd.DataFrame(data = data2, columns = ['Speed', 'Breadth', 'Length_tf'])\n",
    "#z-score standardization for the data frame just created\n",
    "zs2 = (zs1 - zs1.mean()) / zs1.std()\n",
    "#new data frame with all the original variables, transformed length and z-score standardized variables\n",
    "data3 = pd.concat([data2, zs2], axis = 1)\n",
    "data3.columns = ['MMSI', 'Speed', 'COG', 'Destination', 'Ship_type', 'Gross_tonnage', 'Length', 'Breadth', 'Length_tf', 'Speed_z', 'Breadth_z', 'Length_tf_z'] # modifies the column titles"
   ]
  },
  {
   "cell_type": "markdown",
   "metadata": {},
   "source": [
    "______________\n",
    "## <font color = lightcoral>2. Classification </font> "
   ]
  },
  {
   "cell_type": "markdown",
   "metadata": {
    "id": "7CqWZYx2oDw3"
   },
   "source": [
    "Predict the **ship type** using **speed, destination, transformed length, and breadth** as features. Find an estimation for the classification accuracy (number of correctly classified ships to the total number of ships) using **random training and test sets**. <br>\n",
    "\n",
    "Below is a summary of exercises for part 2\n",
    "- a) Produce training and test data **1p**\n",
    "     - Gather the normalized features and one-hot-coded destination columns as array __X__ (input variables), and the ship type as array **y** (output variable)     \n",
    "     - Divide the data randomly into training (80%) and test (20%) sets\n",
    "     - Do you need to use stratification? **Explain your decision**\n",
    "- b) Train the model and test its performance **1p**\n",
    "     - Use kNN classifier with k=3\n",
    "     - Print out the confusion matrix. How does the model perform with different ship types?\n",
    "     - What is the (total) classification accuracy?\n",
    " - Repeat the calculation 1000 times with different split of training/test data, and make a histogram of the results for classification accuracy **1p**\n",
    " - Discuss your results **1p**\n",
    " \n",
    " ______________"
   ]
  },
  {
   "cell_type": "markdown",
   "metadata": {
    "id": "mfq_3_WNoDw3"
   },
   "source": [
    "#### <font color = lightcoral> a) Produce training and test data 1p\n",
    "- Gather the normalized features and one-hot-coded destination columns as array X (input variables), and the ship type as array y (output variable)\n",
    "- Divide the data randomly into training (80%) and test (20%) sets\n",
    "- Do you need to use stratification? **Explain your decision**"
   ]
  },
  {
   "cell_type": "code",
   "execution_count": 328,
   "metadata": {
    "id": "h5p9ZVQBoDw3"
   },
   "outputs": [],
   "source": [
    "### Code for 2a\n",
    "\n",
    "\n",
    "## Arrays\n",
    "# Normalized speed, breadth and length to numpy\n",
    "tmp = data3.loc[:,['Speed_z','Breadth_z','Length_tf_z']].values\n",
    "# Dummy destinations to numpy\n",
    "tmp2 = dst_dummy.loc[:,:].values\n",
    "\n",
    "# Combine the two numpy arrays created\n",
    "X = np.concatenate((tmp,tmp2), axis = 1)\n",
    "# Ship type to numpy\n",
    "y = data3.loc[:,'Ship_type'].values\n",
    "\n",
    "## Dividing the data\n",
    "# use seed number so that the results of the kNN would be the same each time\n",
    "X_train, X_test, y_train, y_test = train_test_split(X, y, test_size = 0.2, random_state = 516761, stratify = y)\n"
   ]
  },
  {
   "cell_type": "markdown",
   "metadata": {
    "id": "daPc_o9boDw3"
   },
   "source": [
    "<font color = red> \\*** Answer here (do you need to use strafication? Explain your decision) *** </font>\n",
    "\n",
    "Stratification is used so there is a realistic amount of each ship type in the test set. Without stratification there would often only be one or no tug ships at all."
   ]
  },
  {
   "cell_type": "markdown",
   "metadata": {
    "id": "muqCazPIoDw4"
   },
   "source": [
    "_______________\n",
    "#### <font color = lightcoral> b) Train the model and test its performance 1p\n",
    "- Use a kNN classifier with k=3\n",
    "- Print out the confusion matrix. <br>\n",
    "- How does the model perform with different ship types? Where do you think the differences come from?<br>\n",
    "- What is the (total) classification accuracy?"
   ]
  },
  {
   "cell_type": "code",
   "execution_count": 329,
   "metadata": {
    "id": "NMR7Y2s6oDw4",
    "outputId": "33bd42f3-a25c-47de-cb12-908d698d08af"
   },
   "outputs": [
    {
     "name": "stdout",
     "output_type": "stream",
     "text": [
      "[[ 7  6  0]\n",
      " [ 2 10  0]\n",
      " [ 2  0  0]]\n",
      "              precision    recall  f1-score   support\n",
      "\n",
      "       Cargo       0.64      0.54      0.58        13\n",
      "      Tanker       0.62      0.83      0.71        12\n",
      "         Tug       0.00      0.00      0.00         2\n",
      "\n",
      "    accuracy                           0.63        27\n",
      "   macro avg       0.42      0.46      0.43        27\n",
      "weighted avg       0.58      0.63      0.60        27\n",
      "\n",
      "Accuracy:  0.6296296296296297\n"
     ]
    },
    {
     "data": {
      "text/plain": [
       "Text(0.5, 1.0, 'Classification accuracy for 1000 calculations')"
      ]
     },
     "execution_count": 329,
     "metadata": {},
     "output_type": "execute_result"
    },
    {
     "data": {
      "image/png": "[encoded data removed]",
      "text/plain": [
       "<Figure size 432x288 with 1 Axes>"
      ]
     },
     "metadata": {
      "needs_background": "light"
     },
     "output_type": "display_data"
    }
   ],
   "source": [
    "### Code for 2b\n",
    "\n",
    "## kNN classifier with k = 3\n",
    "\n",
    "knn = KNeighborsClassifier(n_neighbors = 3)\n",
    "knn.fit(X_train, y_train)\n",
    "y_pred = knn.predict(X_test)\n",
    "\n",
    "## Confusion matrix & classification accuracy\n",
    "print(confusion_matrix(y_test, y_pred))\n",
    "print(classification_report(y_test, y_pred, zero_division=0))\n",
    "print(\"Accuracy: \", metrics.accuracy_score(y_test, y_pred))\n",
    "\n",
    "## Total classification accuracy\n",
    "# create an empty list for the classification accuracies\n",
    "acc = [] \n",
    "i = 1\n",
    "\n",
    "while i <= 1000:\n",
    "    X_train2, X_test2, y_train2, y_test2 = train_test_split(X, y, test_size = 0.2, stratify = y)\n",
    "    knn2 = KNeighborsClassifier(n_neighbors = 3)\n",
    "    knn2.fit(X_train2, y_train2)\n",
    "    y_pred2 = knn2.predict(X_test2)\n",
    "    # add the classification accuracy to the end of the list\n",
    "    acc.append(metrics.accuracy_score(y_test2, y_pred2)) \n",
    "    i = i + 1\n",
    "        \n",
    "plt.hist(acc, ec = 'black') \n",
    "# adds a line that represents the mean to the histogram\n",
    "plt.axvline(mean(acc), color = 'red') \n",
    "plt.title('Classification accuracy for 1000 calculations')"
   ]
  },
  {
   "cell_type": "markdown",
   "metadata": {
    "id": "1ceztBiPoDw4"
   },
   "source": [
    "<font color = red> \\*** Answer here *** - Discuss your results. What can you see? What do you think is relevant? </font>\n",
    "\n",
    "(Tutorial used: https://stackabuse.com/k-nearest-neighbors-algorithm-in-python-and-scikit-learn/)\n",
    "\n",
    "It was hard to find a random seed that would give tugboats for our confusion matrix.\n",
    "\n",
    "However the total classification accuracy is still high enough."
   ]
  },
  {
   "cell_type": "markdown",
   "metadata": {
    "id": "gQfehqAioDw4"
   },
   "source": [
    "__________\n",
    "## 3. <font color = navy> Classification accuracy using leave-one-out cross validation"
   ]
  },
  {
   "cell_type": "markdown",
   "metadata": {
    "id": "DPZx-6JLoDw5"
   },
   "source": [
    "Again, predict the **ship type** using **speed, destination, transformed length, and breadth** of the ship as features. Find an estimation for the classification accuracy using *leave-one-out cross validation (LOO CV)*. <br>\n",
    "\n",
    " - a) Use leave-one-out cross validation to estimate the model performance **1p**\n",
    "     - Use kNN classifier with k=3\n",
    "     - What is the classification accuracy? Compare the result with the one you got in the previous task\n",
    " - b) Which method gives better evaluation of the performance of the classifier with this data set? Explain your choice **1p**"
   ]
  },
  {
   "cell_type": "code",
   "execution_count": 330,
   "metadata": {
    "id": "znHjVwKDoDw5",
    "outputId": "3b73cc4a-eef7-4e9e-be17-19d79df71033"
   },
   "outputs": [
    {
     "name": "stdout",
     "output_type": "stream",
     "text": [
      "[[53 13  1]\n",
      " [ 9 48  1]\n",
      " [ 8  0  1]]\n",
      "              precision    recall  f1-score   support\n",
      "\n",
      "       Cargo       0.76      0.79      0.77        67\n",
      "      Tanker       0.79      0.83      0.81        58\n",
      "         Tug       0.33      0.11      0.17         9\n",
      "\n",
      "    accuracy                           0.76       134\n",
      "   macro avg       0.63      0.58      0.58       134\n",
      "weighted avg       0.74      0.76      0.75       134\n",
      "\n",
      "Accuracy:  0.7611940298507462\n"
     ]
    }
   ],
   "source": [
    "### Code for 3\n",
    "\n",
    "## Leave-one-out cross validation\n",
    "loo = LeaveOneOut()\n",
    "# create a new list for predictive values of y & test values of y\n",
    "preds = [] \n",
    "tests = [] \n",
    "for train_i, test_i in loo.split(X):\n",
    "    # split the data into train and test sets\n",
    "    X_train3, X_test3 = X[train_i], X[test_i] \n",
    "    y_train3, y_test3 = y[train_i], y[test_i]\n",
    "    knn3 = KNeighborsClassifier(n_neighbors = 3)\n",
    "    knn3.fit(X_train3, y_train3)\n",
    "    y_pred3 = knn3.predict(X_test3)\n",
    "    preds.append(y_pred3)\n",
    "    tests.append(y_test3) \n",
    "\n",
    "# transform the list of arrays into a singe list\n",
    "preds_y = [i for l in preds for i in l] \n",
    "tests_y = [i for l in tests for i in l]\n",
    "\n",
    "## Classification accuracy\n",
    "print(confusion_matrix(tests_y, preds_y))\n",
    "print(classification_report(tests_y, preds_y))\n",
    "print(\"Accuracy: \",metrics.accuracy_score(tests_y, preds_y))"
   ]
  },
  {
   "cell_type": "markdown",
   "metadata": {
    "id": "TXJmJ80DoDw5"
   },
   "source": [
    "####  <font color = navy> a)  What is the classification accuracy? Compare the result with the one you got in the previous task **1p**\n",
    "\n",
    "<font color = red> Total classification accurary ~76% is a bit higher than in the previous task. </font>\n",
    "    \n",
    "#### b) <font color = navy>  Which method gives better evaluation of the performance of the classifier with this data set? Why? 1p\n",
    "\n",
    "<font color = red> Leave-one-out method seems to predict tug ships better than using random train/test sets. Therefore I believe LOO to be better for classification accuracy. "
   ]
  },
  {
   "cell_type": "markdown",
   "metadata": {
    "id": "88BjCQL6oDw5"
   },
   "source": [
    "____________\n",
    "## <font color = forestgreen> 4. Model selection with leave-one-out cross validation"
   ]
  },
  {
   "cell_type": "markdown",
   "metadata": {
    "id": "A8fcES_LoDw5"
   },
   "source": [
    "- a) Select the best model (kNN with selection of k) using leave-one-out cross validation (Repeat the model performance estimation with values k=1...30). Which value of k produces the best classification accuracy? **2p**\n",
    "- b) If the number of k is still increased, what is the limit that the **1p** classification accuracy approaches? Why?\n",
    "- d) Can you say something about the performance of this *selected* model with new, unseen data? Explain, how you could you estimate the performance of this selected model. **1p** "
   ]
  },
  {
   "cell_type": "code",
   "execution_count": 331,
   "metadata": {
    "id": "RJ7570_ZoDw6",
    "outputId": "91caaf74-2636-46f7-a4e3-4e5ba98e4c4e"
   },
   "outputs": [
    {
     "data": {
      "image/png": "[encoded data removed]",
      "text/plain": [
       "<Figure size 576x360 with 1 Axes>"
      ]
     },
     "metadata": {
      "needs_background": "light"
     },
     "output_type": "display_data"
    }
   ],
   "source": [
    "# Code for 4\n",
    "\n",
    "## Trying different values of k\n",
    "acc2 = []\n",
    "k = 1\n",
    "while k <= 30:\n",
    "    preds4 = []\n",
    "    tests4 = []\n",
    "    for train_i, test_i in loo.split(X):\n",
    "        X_train4, X_test4 = X[train_i], X[test_i]\n",
    "        y_train4, y_test4 = y[train_i], y[test_i]\n",
    "        # different value of k with each iteration\n",
    "        knn4 = KNeighborsClassifier(n_neighbors = k) \n",
    "        knn4.fit(X_train4, y_train4)\n",
    "        y_pred4 = knn4.predict(X_test4)\n",
    "        preds4.append(y_pred4)\n",
    "        tests4.append(y_test4)\n",
    "    preds_y4 = [i for l in preds4 for i in l]\n",
    "    tests_y4 = [i for l in tests4 for i in l]\n",
    "    acc2.append(metrics.accuracy_score(tests_y4, preds_y4))\n",
    "    k = k + 1\n",
    "\n",
    "\n",
    "## Results\n",
    "kx = list(range(1,31))\n",
    "plt.figure(figsize = [8,5])\n",
    "plt.plot(kx,acc2, marker = \"o\")\n",
    "plt.xticks(kx)\n",
    "plt.title('Classification accuracy vs. Number of nearest neighbors')\n",
    "plt.xlabel('Number of nearest neighbors')\n",
    "plt.ylabel('Classification accuracy')\n",
    "plt.grid()"
   ]
  },
  {
   "cell_type": "markdown",
   "metadata": {
    "id": "qKsgAEyWoDw6"
   },
   "source": [
    "#### <font color = forestgreen>  a) Which value of k produces the best classification accuracy? **1p**</font>"
   ]
  },
  {
   "cell_type": "markdown",
   "metadata": {},
   "source": [
    "<font color = red>  4 "
   ]
  },
  {
   "cell_type": "markdown",
   "metadata": {},
   "source": [
    "#### <font color = forestgreen> b) If the number of k is still increased, what is the limit that the classification accuracy approaches? Why?"
   ]
  },
  {
   "cell_type": "markdown",
   "metadata": {},
   "source": [
    "<font color = red> The classification accuracy is slowly decreasing. Possibly due to boundaries between ship types becoming less distinct."
   ]
  },
  {
   "cell_type": "markdown",
   "metadata": {},
   "source": [
    "#### <font color = forestgreen> c) Can you say something about the performance of this *selected* model with new, unseen data? Explain, how you could you estimate the performance of this selected model. **1p**"
   ]
  },
  {
   "cell_type": "markdown",
   "metadata": {},
   "source": [
    "<font color = red> The accuracy could be anything, since the optimal value of k is dependent on the size and type of data set kNN is used on."
   ]
  },
  {
   "cell_type": "markdown",
   "metadata": {
    "id": "9r2v1LEDoDw6"
   },
   "source": [
    "________________\n",
    "### <font color = red>  5. Testing with training data <font color = red> (this should never be done out of this exercise!) </font>"
   ]
  },
  {
   "cell_type": "markdown",
   "metadata": {
    "id": "j6B6L5HWoDw6"
   },
   "source": [
    "- Repeat the previous task but use the whole data for training **2p**\n",
    "- Plot the resulting classification accuracy versus k=1...30. **Include the values from the previous task in the same figure**\n",
    "- Comment your result. **Why** shouldn't you test with training data?"
   ]
  },
  {
   "cell_type": "code",
   "execution_count": 332,
   "metadata": {
    "id": "ExWjmjQ5oDw6",
    "outputId": "f7bd8eac-a636-400b-a8a4-9ca269129628"
   },
   "outputs": [],
   "source": [
    "### CODE FOR 5: Repeat the previous task but use whole data for training\n",
    "\n",
    "acc3 = []\n",
    "k = 1\n",
    "while k <= 30:\n",
    "    preds5 = []\n",
    "    tests5 = []\n",
    "    for train_i, test_i in loo.split(X):\n",
    "        # use the whole data for training\n",
    "        X_train5, X_test5 = X, X[test_i] \n",
    "        y_train5, y_test5 = y, y[test_i]\n",
    "        knn5 = KNeighborsClassifier(n_neighbors = k)\n",
    "        knn5.fit(X_train5, y_train5)\n",
    "        y_pred5 = knn5.predict(X_test5)\n",
    "        preds5.append(y_pred5)\n",
    "        tests5.append(y_test5)\n",
    "    preds_y5 = [i for l in preds5 for i in l]\n",
    "    tests_y5 = [i for l in tests5 for i in l]\n",
    "    acc3.append(metrics.accuracy_score(tests_y5, preds_y5))\n",
    "    k = k + 1"
   ]
  },
  {
   "cell_type": "code",
   "execution_count": 333,
   "metadata": {
    "id": "nbBQekY1oDw6",
    "outputId": "3c06f464-b5ed-46ce-994e-251b1486b04c",
    "scrolled": true
   },
   "outputs": [
    {
     "data": {
      "image/png": "[encoded data removed]",
      "text/plain": [
       "<Figure size 576x360 with 1 Axes>"
      ]
     },
     "metadata": {
      "needs_background": "light"
     },
     "output_type": "display_data"
    }
   ],
   "source": [
    "### CODE FOR 5: The plot\n",
    "\n",
    "kx = list(range(1,31))\n",
    "fig = plt.figure(figsize = [8,5])\n",
    "ax = plt.subplot(1,1,1)\n",
    "ax.plot(kx, acc2, marker = 'o', label = 'Leave-one-out')\n",
    "ax.plot(kx, acc3, marker = 'o', label = 'Training with the whole data')\n",
    "plt.xticks(kx)\n",
    "plt.title('Classification accuracy vs. Number of nearest neighbors')\n",
    "plt.xlabel('Number of nearest neighbors')\n",
    "plt.ylabel('Classification accuracy')\n",
    "plt.grid()\n",
    "ax.legend()\n",
    "plt.show()"
   ]
  },
  {
   "cell_type": "markdown",
   "metadata": {},
   "source": [
    " <font color = red> Using the whole data for the training set sees to give better classification accuracy than the LOO method\n",
    "\n",
    " However, using the whole data for training gives us no information on how the model predicts new observations. We have no unseen data for the model to try and classify if we use it all in the trainin set. This is why the whole data set shouldn't be used for training."
   ]
  }
 ],
 "metadata": {
  "colab": {
   "name": "DADK2020_ex3_Valtteri_Nieminen.ipynb",
   "provenance": []
  },
  "kernelspec": {
   "display_name": "Python 3",
   "language": "python",
   "name": "python3"
  },
  "language_info": {
   "codemirror_mode": {
    "name": "ipython",
    "version": 3
   },
   "file_extension": ".py",
   "mimetype": "text/x-python",
   "name": "python",
   "nbconvert_exporter": "python",
   "pygments_lexer": "ipython3",
   "version": "3.8.8"
  },
  "toc": {
   "base_numbering": 1,
   "nav_menu": {
    "height": "180px",
    "width": "160px"
   },
   "number_sections": true,
   "sideBar": true,
   "skip_h1_title": true,
   "title_cell": "Table of Contents",
   "title_sidebar": "Contents",
   "toc_cell": false,
   "toc_position": {},
   "toc_section_display": true,
   "toc_window_display": false
  }
 },
 "nbformat": 4,
 "nbformat_minor": 1
}
