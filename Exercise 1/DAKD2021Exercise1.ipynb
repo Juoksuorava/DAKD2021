{
 "cells": [
  {
   "cell_type": "markdown",
   "metadata": {
    "id": "AjEZRpKRRPIv"
   },
   "source": [
    "# Python tutorial\n",
    "Python is a very common programming language in machine learning applications and is used in the exercises of this course. This tutorial is targeted for students that have at least elementary knowledge of programming in any language. In particular, you should know basic concepts such as variables, loops and functions. In this document we see how to use those building blocks in Python programs. We also cover some important packages such as NumPy, Pandas and Matplotlib. If you installed the [Anaconda Distribution](https://www.anaconda.com/distribution/) (Python version 3.x recommended) you should already have those packages, in addition to the Python language itself.\n",
    "\n",
    "**Notes:** 1) There are exercises in the end of this document. 2) A part of the tutorial uses the well-known Iris data set. You can download it [here](https://archive.ics.uci.edu/ml/machine-learning-databases/iris/).\n",
    "\n",
    "## Jupyter Notebook\n",
    "Jupyter Notebook is an easy way to make documents containing both runnable program code and text (markdown). [Tutorials](https://www.dataquest.io/blog/jupyter-notebook-tutorial/) about Jupyter Notebook are easily found on the Internet but we also cover some of the most important concepts here. \n",
    "\n",
    "Notebook documents consist of two kinds of *cells*: *code* and *Markdown*. Code cells contain executable program code and Markdown cells contain text, possibly with images. You can execute the currently selected cell by pressing either **Ctrl+Enter** or **Shift+Enter**. The latter option also selects the next cell, making it easy to execute multiple consecutive cells after each other. These actions can also be found in the menu: Cell -> Run Cells. The entire Notebook can be executed from the menu: Kernel -> Restart & Run All.\n",
    "\n",
    "To add a new cell, press either a (insert *above* the current cell) or b (*below* the current cell) when a cell is selected but not editable. When editing a cell, pressing a or b will of course just add a letter to the document. To stop editing a cell, you may click the border area. To delete a cell, press d (*delete*) *twice*. To turn a cell into a Markdown cell, press m. By pressing y the current cell becomes a code cell.\n",
    "\n",
    "It is possible to execute a cell multiple times or to execute cells in an order that is different from their order in the document. This can be handy when you need to make small changes - there is no need to re-execute everything from the beginning. However, you need to remember that the state of the running program is determined by the order in which you run the cells, not by their order in the document.\n",
    "\n",
    "By pressing h (*help*) you can see what keyboard shortcuts are available. You can also access everything from the menus but it is faster to memorize at least the most commonly used keyboard shortcuts such as adding and executing cells.\n",
    "\n",
    "## Python programming basics\n",
    "As our simplest use case, we can easily compute the values of certain expressions:"
   ]
  },
  {
   "cell_type": "code",
   "execution_count": 21,
   "metadata": {
    "id": "2HrSzqvkRPIy"
   },
   "outputs": [
    {
     "data": {
      "text/plain": [
       "53"
      ]
     },
     "execution_count": 21,
     "metadata": {},
     "output_type": "execute_result"
    }
   ],
   "source": [
    "5 + 8*6 # Execute the cell by pressing Shift+Enter or Ctrl+Enter"
   ]
  },
  {
   "cell_type": "markdown",
   "metadata": {
    "id": "f6t7fMT1RPI4"
   },
   "source": [
    "Using variables is similar to other languages, although in Python there is no separate variable declaration. The data type of a variable depends on what is assigned to it."
   ]
  },
  {
   "cell_type": "code",
   "execution_count": 22,
   "metadata": {
    "id": "YP603Z95RPI5",
    "scrolled": true
   },
   "outputs": [
    {
     "name": "stdout",
     "output_type": "stream",
     "text": [
      "-2.9\n",
      "0.2\n",
      "a string 5\n",
      "1 -1\n",
      "5 <class 'int'>\n"
     ]
    }
   ],
   "source": [
    "a = 5\n",
    "b, c = -1, 1              # We can assign values to more than one variable at the same time\n",
    "s, x = 'a string', 2.1\n",
    "print(a*b + x*c)\n",
    "print(a**b)               # Exponentiation\n",
    "print(s + ' ' + str(a))   # An explicit conversion of a number to a string is necessary here\n",
    "b, c = c, b               # Swap the values of two variables\n",
    "print(b, c)\n",
    "s = a                     # Now s is no longer a string\n",
    "print(s, type(s))"
   ]
  },
  {
   "cell_type": "markdown",
   "metadata": {
    "id": "UN2mWdU9RPI-"
   },
   "source": [
    "### Conditional statements and loops\n",
    "Conditional statements and loops are similar to most programming languages. The 'for' loop of Python iterates over a collection. To iterate over a range of numeric values, we can use the *range()* function. Range can take a lower limit, an upper limit and a step size as the parameters. If only one parameter is specified, it is the upper limit (which is itself excluded), lower limit is 0 and step size 1."
   ]
  },
  {
   "cell_type": "code",
   "execution_count": 23,
   "metadata": {
    "id": "-sGo8UjPRPI_"
   },
   "outputs": [
    {
     "name": "stdout",
     "output_type": "stream",
     "text": [
      "Positive\n",
      "\n",
      "-1 1\n",
      "1 1\n",
      "-2 4\n",
      "6 36\n",
      "\n",
      "0\n",
      "1\n",
      "2\n",
      "3\n",
      "4\n",
      "5\n",
      "6\n",
      "7\n",
      "8\n",
      "9\n",
      "\n",
      "-3\n",
      "-1\n",
      "1\n",
      "3\n",
      "5\n",
      "7\n",
      "\n",
      "-3\n",
      "-1\n",
      "1\n",
      "3\n",
      "5\n",
      "7\n"
     ]
    }
   ],
   "source": [
    "if b > 0:                          # A conditional statement\n",
    "    print('Positive')\n",
    "elif b < 0:                        # There can be any number of \"else if\" -branches, including 0\n",
    "    print('Negative')\n",
    "else:                              # At most one \"else\"-branch\n",
    "    print('Zero')\n",
    "    \n",
    "print()\n",
    "    \n",
    "for i in [-1, 1, -2, 6]:           # Iterate over a list\n",
    "    print(i, i**2)\n",
    "    \n",
    "print()\n",
    "    \n",
    "for i in range(10):                # Repeat for i = 0, 1, ..., 9 (the upper limit, 10, is excluded)\n",
    "    print(i)\n",
    "    \n",
    "print()\n",
    "    \n",
    "for i in range(-3, 8, 2):          # Repeat for i = -3, -1, ..., 7\n",
    "    print(i)\n",
    "\n",
    "print()\n",
    "\n",
    "i = -3\n",
    "while i < 8:                       # The same as above but with a while loop\n",
    "    print(i)\n",
    "    i += 2                         # Here we must remember to increase the value of i"
   ]
  },
  {
   "cell_type": "markdown",
   "metadata": {
    "id": "LuoQKJC1RPJD"
   },
   "source": [
    "### Indentation\n",
    "As seen above, in Python code blocks are defined by *indentation*, not by any particular block start and end characters (like '{' and '}' in Java). Some lines need to be ended in a colon (':'), e.g. conditional statements, loops and function definitions.\n",
    "\n",
    "### Functions\n",
    "Functions are defined using the 'def' keyword:"
   ]
  },
  {
   "cell_type": "code",
   "execution_count": 24,
   "metadata": {
    "id": "U2S2NIsMRPJE"
   },
   "outputs": [
    {
     "data": {
      "text/plain": [
       "25"
      ]
     },
     "execution_count": 24,
     "metadata": {},
     "output_type": "execute_result"
    }
   ],
   "source": [
    "def f(x):           # A function definition\n",
    "    return x**2\n",
    "\n",
    "f(5)"
   ]
  },
  {
   "cell_type": "markdown",
   "metadata": {
    "id": "PuSdjy7JRPJI"
   },
   "source": [
    "### Data structures\n",
    "The core language provides several data structures, such as 'list', 'tuple' and 'dictionary'. Lists and tuples are simple collections of values. Dictionaries consist of key-value pairs."
   ]
  },
  {
   "cell_type": "code",
   "execution_count": 25,
   "metadata": {
    "id": "cqycm0ZSRPJI"
   },
   "outputs": [
    {
     "name": "stdout",
     "output_type": "stream",
     "text": [
      "[0, 2, 3] (1, 2, 3) {'zero': 0, 'one': 1}\n",
      "2 1\n",
      "(1, 2)\n",
      "(1, 3)\n",
      "(3, 2, 1)\n",
      "[0, 2, 3, 4] {'zero': 0, 'one': 1, 'many': 3}\n"
     ]
    }
   ],
   "source": [
    "l = [1, 2, 3]              # A list\n",
    "t = (1, 2, 3)              # A tuple - similar to a list but cannot be modified after creation\n",
    "l[0] = 0                   # t[0] would not work because tuples are immutable\n",
    "d = {'zero': 0, 'one': 1}  # A dictionary\n",
    "print(l, t, d)\n",
    "print(l[1], d['one'])      # l[1] is the second element of l - first index is 0\n",
    "print(t[0:2])              # Elements at index 0 and 1 (end index is excluded)\n",
    "print(t[0:3:2])            # Start index 0, end index 3, step size 2\n",
    "print(t[::-1])             # Step size -1 (reverse), include all elements (start and end index empty)\n",
    "l.append(4)                # Append an element to the end of a list\n",
    "d['many'] = 3              # Add a new key-value pair to a dictionary\n",
    "print(l, d)"
   ]
  },
  {
   "cell_type": "markdown",
   "metadata": {
    "id": "yHovlbTMRPJN"
   },
   "source": [
    "#### Nice to know, not essential for this course:\n",
    "There are many handy features in Python that you can use to save some work: list comprehensions, filter and map functions, lambda functions (a lambda function is an unnamed function that is defined where it is used). Here are some examples but we won't cover them any further because our needs are quite modest in this course."
   ]
  },
  {
   "cell_type": "code",
   "execution_count": 26,
   "metadata": {
    "id": "7XM48sVJRPJO"
   },
   "outputs": [
    {
     "name": "stdout",
     "output_type": "stream",
     "text": [
      "[0, 4, 9, 16] [4, 9, 16]\n",
      "[4, 9, 16]\n",
      "[0, 16, 81, 256]\n"
     ]
    }
   ],
   "source": [
    "l1 = [x**2 for x in l]                   # List comprehension - can replace a loop in many cases\n",
    "l2 = [x**2 for x in l if x > 0]          # List comprehension with some elements omitted\n",
    "print(l1, l2)\n",
    "print(list(filter(lambda x: x > 0, l1))) # Filter: include only positive elements\n",
    "print(list(map(lambda x: x**2, l1)))     # Map: apply a function to all elements of a collection"
   ]
  },
  {
   "cell_type": "markdown",
   "metadata": {
    "id": "-c9IKVzERPJV"
   },
   "source": [
    "## NumPy\n",
    "NumPy provides us with multi-dimensional arrays and methods for working with them. Among the methods are dot products of vectors, matrix products, calculating means and standard deviations, generating random numbers and many, many more. Let's start with the basics:"
   ]
  },
  {
   "cell_type": "code",
   "execution_count": 27,
   "metadata": {
    "id": "UedZ8_VIRPJW"
   },
   "outputs": [
    {
     "name": "stdout",
     "output_type": "stream",
     "text": [
      "0\n",
      "\n",
      "[[ 1  1  1]\n",
      " [ 1 -1  1]\n",
      " [ 1  1 -1]]\n",
      "\n",
      "[6 2 0]\n",
      "\n",
      "[[ 1  2  3]\n",
      " [ 1 -2  3]\n",
      " [ 1  2 -3]]\n",
      "\n",
      "[[ 1  1  1]\n",
      " [ 1 -1  1]\n",
      " [ 1  1 -1]]\n",
      "\n",
      "[[ 0.   0.5  0.5]\n",
      " [ 0.5 -0.5 -0. ]\n",
      " [ 0.5 -0.  -0.5]]\n"
     ]
    }
   ],
   "source": [
    "import numpy as np\n",
    "vec1 = np.array([1, 2, 3])                          # A one-dimensional array (vector)\n",
    "vec2 = np.array([1, 1, -1])\n",
    "print(np.dot(vec1, vec2))                           # Dot product of vectors\n",
    "print()\n",
    "mat = np.array([[1, 1, 1], [1, -1, 1], [1, 1, -1]]) # A two-dimensional array (matrix)\n",
    "print(mat)\n",
    "print()\n",
    "print(mat@vec1)                                     # Matrix product (vec1 is interpreted as a column vector)\n",
    "print()\n",
    "print(mat*vec1)                                     # Element-wise product, with broadcasting\n",
    "print()\n",
    "print(mat.T)                                        # Transpose of a matrix\n",
    "print()\n",
    "print(np.linalg.inv(mat))                           # Inverse of a matrix"
   ]
  },
  {
   "cell_type": "markdown",
   "metadata": {
    "id": "_WPMKBtSSQ93"
   },
   "source": [
    "Note that matrix product is denoted by the symbol @, not by * which is used for scalar multiplication or for element-wise product of the elements of two matrices. For example, if A and B are 3x3-matrices, (A\\*B)[0, 0] = A[0]\\*B[0] whereas (A@B)[0, 0] = A[0, 0]\\*B[0, 0] + A[0, 1]\\*B[1, 0] + A[0, 2]\\*B[2, 0].\n",
    "\n",
    "Above, we used the operator \\* where the left-side object was a matrix, but on the right there was a vector. This works because of an automatically applied mechanism known as *broadcasting*. Conceptually, the vector [1, 2, 3] (here interpreted as a row vector) was repeated three times to get a 3x3-matrix with all rows equal to [1, 2, 3]. The matrix mat was then multiplied element-wise with this new matrix."
   ]
  },
  {
   "cell_type": "markdown",
   "metadata": {
    "id": "4RGdcNjWRPJa"
   },
   "source": [
    "In most applications we don't want to enter the arrays manually as that would be tedious and error-prone. Instead, we may read data (here, the [well-known Iris data set](https://archive.ics.uci.edu/ml/machine-learning-databases/iris/); you need to download iris.data from the page) from a file. If you are using this notebook via Google Colab, you will first need to upload the files you want to use, like this:"
   ]
  },
  {
   "cell_type": "code",
   "execution_count": 28,
   "metadata": {
    "id": "L7WLfGAeSv1n"
   },
   "outputs": [],
   "source": [
    "#from google.colab import files\n",
    "#uploaded = files.upload()"
   ]
  },
  {
   "cell_type": "markdown",
   "metadata": {
    "id": "NntCqw2WSZEO"
   },
   "source": [
    "If you are not using Google Colab, you may proceed directly here:"
   ]
  },
  {
   "cell_type": "code",
   "execution_count": 29,
   "metadata": {
    "id": "iX0TLrg8RPJb"
   },
   "outputs": [
    {
     "name": "stdout",
     "output_type": "stream",
     "text": [
      "[['5.1' '3.5' '1.4' '0.2' 'Iris-setosa']\n",
      " ['4.9' '3.0' '1.4' '0.2' 'Iris-setosa']\n",
      " ['4.7' '3.2' '1.3' '0.2' 'Iris-setosa']\n",
      " ['4.6' '3.1' '1.5' '0.2' 'Iris-setosa']\n",
      " ['5.0' '3.6' '1.4' '0.2' 'Iris-setosa']\n",
      " ['5.4' '3.9' '1.7' '0.4' 'Iris-setosa']\n",
      " ['4.6' '3.4' '1.4' '0.3' 'Iris-setosa']\n",
      " ['5.0' '3.4' '1.5' '0.2' 'Iris-setosa']\n",
      " ['4.4' '2.9' '1.4' '0.2' 'Iris-setosa']\n",
      " ['4.9' '3.1' '1.5' '0.1' 'Iris-setosa']\n",
      " ['5.4' '3.7' '1.5' '0.2' 'Iris-setosa']\n",
      " ['4.8' '3.4' '1.6' '0.2' 'Iris-setosa']\n",
      " ['4.8' '3.0' '1.4' '0.1' 'Iris-setosa']\n",
      " ['4.3' '3.0' '1.1' '0.1' 'Iris-setosa']\n",
      " ['5.8' '4.0' '1.2' '0.2' 'Iris-setosa']\n",
      " ['5.7' '4.4' '1.5' '0.4' 'Iris-setosa']\n",
      " ['5.4' '3.9' '1.3' '0.4' 'Iris-setosa']\n",
      " ['5.1' '3.5' '1.4' '0.3' 'Iris-setosa']\n",
      " ['5.7' '3.8' '1.7' '0.3' 'Iris-setosa']\n",
      " ['5.1' '3.8' '1.5' '0.3' 'Iris-setosa']\n",
      " ['5.4' '3.4' '1.7' '0.2' 'Iris-setosa']\n",
      " ['5.1' '3.7' '1.5' '0.4' 'Iris-setosa']\n",
      " ['4.6' '3.6' '1.0' '0.2' 'Iris-setosa']\n",
      " ['5.1' '3.3' '1.7' '0.5' 'Iris-setosa']\n",
      " ['4.8' '3.4' '1.9' '0.2' 'Iris-setosa']\n",
      " ['5.0' '3.0' '1.6' '0.2' 'Iris-setosa']\n",
      " ['5.0' '3.4' '1.6' '0.4' 'Iris-setosa']\n",
      " ['5.2' '3.5' '1.5' '0.2' 'Iris-setosa']\n",
      " ['5.2' '3.4' '1.4' '0.2' 'Iris-setosa']\n",
      " ['4.7' '3.2' '1.6' '0.2' 'Iris-setosa']\n",
      " ['4.8' '3.1' '1.6' '0.2' 'Iris-setosa']\n",
      " ['5.4' '3.4' '1.5' '0.4' 'Iris-setosa']\n",
      " ['5.2' '4.1' '1.5' '0.1' 'Iris-setosa']\n",
      " ['5.5' '4.2' '1.4' '0.2' 'Iris-setosa']\n",
      " ['4.9' '3.1' '1.5' '0.1' 'Iris-setosa']\n",
      " ['5.0' '3.2' '1.2' '0.2' 'Iris-setosa']\n",
      " ['5.5' '3.5' '1.3' '0.2' 'Iris-setosa']\n",
      " ['4.9' '3.1' '1.5' '0.1' 'Iris-setosa']\n",
      " ['4.4' '3.0' '1.3' '0.2' 'Iris-setosa']\n",
      " ['5.1' '3.4' '1.5' '0.2' 'Iris-setosa']\n",
      " ['5.0' '3.5' '1.3' '0.3' 'Iris-setosa']\n",
      " ['4.5' '2.3' '1.3' '0.3' 'Iris-setosa']\n",
      " ['4.4' '3.2' '1.3' '0.2' 'Iris-setosa']\n",
      " ['5.0' '3.5' '1.6' '0.6' 'Iris-setosa']\n",
      " ['5.1' '3.8' '1.9' '0.4' 'Iris-setosa']\n",
      " ['4.8' '3.0' '1.4' '0.3' 'Iris-setosa']\n",
      " ['5.1' '3.8' '1.6' '0.2' 'Iris-setosa']\n",
      " ['4.6' '3.2' '1.4' '0.2' 'Iris-setosa']\n",
      " ['5.3' '3.7' '1.5' '0.2' 'Iris-setosa']\n",
      " ['5.0' '3.3' '1.4' '0.2' 'Iris-setosa']\n",
      " ['7.0' '3.2' '4.7' '1.4' 'Iris-versicolor']\n",
      " ['6.4' '3.2' '4.5' '1.5' 'Iris-versicolor']\n",
      " ['6.9' '3.1' '4.9' '1.5' 'Iris-versicolor']\n",
      " ['5.5' '2.3' '4.0' '1.3' 'Iris-versicolor']\n",
      " ['6.5' '2.8' '4.6' '1.5' 'Iris-versicolor']\n",
      " ['5.7' '2.8' '4.5' '1.3' 'Iris-versicolor']\n",
      " ['6.3' '3.3' '4.7' '1.6' 'Iris-versicolor']\n",
      " ['4.9' '2.4' '3.3' '1.0' 'Iris-versicolor']\n",
      " ['6.6' '2.9' '4.6' '1.3' 'Iris-versicolor']\n",
      " ['5.2' '2.7' '3.9' '1.4' 'Iris-versicolor']\n",
      " ['5.0' '2.0' '3.5' '1.0' 'Iris-versicolor']\n",
      " ['5.9' '3.0' '4.2' '1.5' 'Iris-versicolor']\n",
      " ['6.0' '2.2' '4.0' '1.0' 'Iris-versicolor']\n",
      " ['6.1' '2.9' '4.7' '1.4' 'Iris-versicolor']\n",
      " ['5.6' '2.9' '3.6' '1.3' 'Iris-versicolor']\n",
      " ['6.7' '3.1' '4.4' '1.4' 'Iris-versicolor']\n",
      " ['5.6' '3.0' '4.5' '1.5' 'Iris-versicolor']\n",
      " ['5.8' '2.7' '4.1' '1.0' 'Iris-versicolor']\n",
      " ['6.2' '2.2' '4.5' '1.5' 'Iris-versicolor']\n",
      " ['5.6' '2.5' '3.9' '1.1' 'Iris-versicolor']\n",
      " ['5.9' '3.2' '4.8' '1.8' 'Iris-versicolor']\n",
      " ['6.1' '2.8' '4.0' '1.3' 'Iris-versicolor']\n",
      " ['6.3' '2.5' '4.9' '1.5' 'Iris-versicolor']\n",
      " ['6.1' '2.8' '4.7' '1.2' 'Iris-versicolor']\n",
      " ['6.4' '2.9' '4.3' '1.3' 'Iris-versicolor']\n",
      " ['6.6' '3.0' '4.4' '1.4' 'Iris-versicolor']\n",
      " ['6.8' '2.8' '4.8' '1.4' 'Iris-versicolor']\n",
      " ['6.7' '3.0' '5.0' '1.7' 'Iris-versicolor']\n",
      " ['6.0' '2.9' '4.5' '1.5' 'Iris-versicolor']\n",
      " ['5.7' '2.6' '3.5' '1.0' 'Iris-versicolor']\n",
      " ['5.5' '2.4' '3.8' '1.1' 'Iris-versicolor']\n",
      " ['5.5' '2.4' '3.7' '1.0' 'Iris-versicolor']\n",
      " ['5.8' '2.7' '3.9' '1.2' 'Iris-versicolor']\n",
      " ['6.0' '2.7' '5.1' '1.6' 'Iris-versicolor']\n",
      " ['5.4' '3.0' '4.5' '1.5' 'Iris-versicolor']\n",
      " ['6.0' '3.4' '4.5' '1.6' 'Iris-versicolor']\n",
      " ['6.7' '3.1' '4.7' '1.5' 'Iris-versicolor']\n",
      " ['6.3' '2.3' '4.4' '1.3' 'Iris-versicolor']\n",
      " ['5.6' '3.0' '4.1' '1.3' 'Iris-versicolor']\n",
      " ['5.5' '2.5' '4.0' '1.3' 'Iris-versicolor']\n",
      " ['5.5' '2.6' '4.4' '1.2' 'Iris-versicolor']\n",
      " ['6.1' '3.0' '4.6' '1.4' 'Iris-versicolor']\n",
      " ['5.8' '2.6' '4.0' '1.2' 'Iris-versicolor']\n",
      " ['5.0' '2.3' '3.3' '1.0' 'Iris-versicolor']\n",
      " ['5.6' '2.7' '4.2' '1.3' 'Iris-versicolor']\n",
      " ['5.7' '3.0' '4.2' '1.2' 'Iris-versicolor']\n",
      " ['5.7' '2.9' '4.2' '1.3' 'Iris-versicolor']\n",
      " ['6.2' '2.9' '4.3' '1.3' 'Iris-versicolor']\n",
      " ['5.1' '2.5' '3.0' '1.1' 'Iris-versicolor']\n",
      " ['5.7' '2.8' '4.1' '1.3' 'Iris-versicolor']\n",
      " ['6.3' '3.3' '6.0' '2.5' 'Iris-virginica']\n",
      " ['5.8' '2.7' '5.1' '1.9' 'Iris-virginica']\n",
      " ['7.1' '3.0' '5.9' '2.1' 'Iris-virginica']\n",
      " ['6.3' '2.9' '5.6' '1.8' 'Iris-virginica']\n",
      " ['6.5' '3.0' '5.8' '2.2' 'Iris-virginica']\n",
      " ['7.6' '3.0' '6.6' '2.1' 'Iris-virginica']\n",
      " ['4.9' '2.5' '4.5' '1.7' 'Iris-virginica']\n",
      " ['7.3' '2.9' '6.3' '1.8' 'Iris-virginica']\n",
      " ['6.7' '2.5' '5.8' '1.8' 'Iris-virginica']\n",
      " ['7.2' '3.6' '6.1' '2.5' 'Iris-virginica']\n",
      " ['6.5' '3.2' '5.1' '2.0' 'Iris-virginica']\n",
      " ['6.4' '2.7' '5.3' '1.9' 'Iris-virginica']\n",
      " ['6.8' '3.0' '5.5' '2.1' 'Iris-virginica']\n",
      " ['5.7' '2.5' '5.0' '2.0' 'Iris-virginica']\n",
      " ['5.8' '2.8' '5.1' '2.4' 'Iris-virginica']\n",
      " ['6.4' '3.2' '5.3' '2.3' 'Iris-virginica']\n",
      " ['6.5' '3.0' '5.5' '1.8' 'Iris-virginica']\n",
      " ['7.7' '3.8' '6.7' '2.2' 'Iris-virginica']\n",
      " ['7.7' '2.6' '6.9' '2.3' 'Iris-virginica']\n",
      " ['6.0' '2.2' '5.0' '1.5' 'Iris-virginica']\n",
      " ['6.9' '3.2' '5.7' '2.3' 'Iris-virginica']\n",
      " ['5.6' '2.8' '4.9' '2.0' 'Iris-virginica']\n",
      " ['7.7' '2.8' '6.7' '2.0' 'Iris-virginica']\n",
      " ['6.3' '2.7' '4.9' '1.8' 'Iris-virginica']\n",
      " ['6.7' '3.3' '5.7' '2.1' 'Iris-virginica']\n",
      " ['7.2' '3.2' '6.0' '1.8' 'Iris-virginica']\n",
      " ['6.2' '2.8' '4.8' '1.8' 'Iris-virginica']\n",
      " ['6.1' '3.0' '4.9' '1.8' 'Iris-virginica']\n",
      " ['6.4' '2.8' '5.6' '2.1' 'Iris-virginica']\n",
      " ['7.2' '3.0' '5.8' '1.6' 'Iris-virginica']\n",
      " ['7.4' '2.8' '6.1' '1.9' 'Iris-virginica']\n",
      " ['7.9' '3.8' '6.4' '2.0' 'Iris-virginica']\n",
      " ['6.4' '2.8' '5.6' '2.2' 'Iris-virginica']\n",
      " ['6.3' '2.8' '5.1' '1.5' 'Iris-virginica']\n",
      " ['6.1' '2.6' '5.6' '1.4' 'Iris-virginica']\n",
      " ['7.7' '3.0' '6.1' '2.3' 'Iris-virginica']\n",
      " ['6.3' '3.4' '5.6' '2.4' 'Iris-virginica']\n",
      " ['6.4' '3.1' '5.5' '1.8' 'Iris-virginica']\n",
      " ['6.0' '3.0' '4.8' '1.8' 'Iris-virginica']\n",
      " ['6.9' '3.1' '5.4' '2.1' 'Iris-virginica']\n",
      " ['6.7' '3.1' '5.6' '2.4' 'Iris-virginica']\n",
      " ['6.9' '3.1' '5.1' '2.3' 'Iris-virginica']\n",
      " ['5.8' '2.7' '5.1' '1.9' 'Iris-virginica']\n",
      " ['6.8' '3.2' '5.9' '2.3' 'Iris-virginica']\n",
      " ['6.7' '3.3' '5.7' '2.5' 'Iris-virginica']\n",
      " ['6.7' '3.0' '5.2' '2.3' 'Iris-virginica']\n",
      " ['6.3' '2.5' '5.0' '1.9' 'Iris-virginica']\n",
      " ['6.5' '3.0' '5.2' '2.0' 'Iris-virginica']\n",
      " ['6.2' '3.4' '5.4' '2.3' 'Iris-virginica']\n",
      " ['5.9' '3.0' '5.1' '1.8' 'Iris-virginica']]\n",
      "[[5.1 3.5 1.4 0.2]\n",
      " [4.9 3.  1.4 0.2]\n",
      " [4.7 3.2 1.3 0.2]\n",
      " [4.6 3.1 1.5 0.2]\n",
      " [5.  3.6 1.4 0.2]\n",
      " [5.4 3.9 1.7 0.4]\n",
      " [4.6 3.4 1.4 0.3]\n",
      " [5.  3.4 1.5 0.2]\n",
      " [4.4 2.9 1.4 0.2]\n",
      " [4.9 3.1 1.5 0.1]\n",
      " [5.4 3.7 1.5 0.2]\n",
      " [4.8 3.4 1.6 0.2]\n",
      " [4.8 3.  1.4 0.1]\n",
      " [4.3 3.  1.1 0.1]\n",
      " [5.8 4.  1.2 0.2]\n",
      " [5.7 4.4 1.5 0.4]\n",
      " [5.4 3.9 1.3 0.4]\n",
      " [5.1 3.5 1.4 0.3]\n",
      " [5.7 3.8 1.7 0.3]\n",
      " [5.1 3.8 1.5 0.3]\n",
      " [5.4 3.4 1.7 0.2]\n",
      " [5.1 3.7 1.5 0.4]\n",
      " [4.6 3.6 1.  0.2]\n",
      " [5.1 3.3 1.7 0.5]\n",
      " [4.8 3.4 1.9 0.2]\n",
      " [5.  3.  1.6 0.2]\n",
      " [5.  3.4 1.6 0.4]\n",
      " [5.2 3.5 1.5 0.2]\n",
      " [5.2 3.4 1.4 0.2]\n",
      " [4.7 3.2 1.6 0.2]\n",
      " [4.8 3.1 1.6 0.2]\n",
      " [5.4 3.4 1.5 0.4]\n",
      " [5.2 4.1 1.5 0.1]\n",
      " [5.5 4.2 1.4 0.2]\n",
      " [4.9 3.1 1.5 0.1]\n",
      " [5.  3.2 1.2 0.2]\n",
      " [5.5 3.5 1.3 0.2]\n",
      " [4.9 3.1 1.5 0.1]\n",
      " [4.4 3.  1.3 0.2]\n",
      " [5.1 3.4 1.5 0.2]\n",
      " [5.  3.5 1.3 0.3]\n",
      " [4.5 2.3 1.3 0.3]\n",
      " [4.4 3.2 1.3 0.2]\n",
      " [5.  3.5 1.6 0.6]\n",
      " [5.1 3.8 1.9 0.4]\n",
      " [4.8 3.  1.4 0.3]\n",
      " [5.1 3.8 1.6 0.2]\n",
      " [4.6 3.2 1.4 0.2]\n",
      " [5.3 3.7 1.5 0.2]\n",
      " [5.  3.3 1.4 0.2]\n",
      " [7.  3.2 4.7 1.4]\n",
      " [6.4 3.2 4.5 1.5]\n",
      " [6.9 3.1 4.9 1.5]\n",
      " [5.5 2.3 4.  1.3]\n",
      " [6.5 2.8 4.6 1.5]\n",
      " [5.7 2.8 4.5 1.3]\n",
      " [6.3 3.3 4.7 1.6]\n",
      " [4.9 2.4 3.3 1. ]\n",
      " [6.6 2.9 4.6 1.3]\n",
      " [5.2 2.7 3.9 1.4]\n",
      " [5.  2.  3.5 1. ]\n",
      " [5.9 3.  4.2 1.5]\n",
      " [6.  2.2 4.  1. ]\n",
      " [6.1 2.9 4.7 1.4]\n",
      " [5.6 2.9 3.6 1.3]\n",
      " [6.7 3.1 4.4 1.4]\n",
      " [5.6 3.  4.5 1.5]\n",
      " [5.8 2.7 4.1 1. ]\n",
      " [6.2 2.2 4.5 1.5]\n",
      " [5.6 2.5 3.9 1.1]\n",
      " [5.9 3.2 4.8 1.8]\n",
      " [6.1 2.8 4.  1.3]\n",
      " [6.3 2.5 4.9 1.5]\n",
      " [6.1 2.8 4.7 1.2]\n",
      " [6.4 2.9 4.3 1.3]\n",
      " [6.6 3.  4.4 1.4]\n",
      " [6.8 2.8 4.8 1.4]\n",
      " [6.7 3.  5.  1.7]\n",
      " [6.  2.9 4.5 1.5]\n",
      " [5.7 2.6 3.5 1. ]\n",
      " [5.5 2.4 3.8 1.1]\n",
      " [5.5 2.4 3.7 1. ]\n",
      " [5.8 2.7 3.9 1.2]\n",
      " [6.  2.7 5.1 1.6]\n",
      " [5.4 3.  4.5 1.5]\n",
      " [6.  3.4 4.5 1.6]\n",
      " [6.7 3.1 4.7 1.5]\n",
      " [6.3 2.3 4.4 1.3]\n",
      " [5.6 3.  4.1 1.3]\n",
      " [5.5 2.5 4.  1.3]\n",
      " [5.5 2.6 4.4 1.2]\n",
      " [6.1 3.  4.6 1.4]\n",
      " [5.8 2.6 4.  1.2]\n",
      " [5.  2.3 3.3 1. ]\n",
      " [5.6 2.7 4.2 1.3]\n",
      " [5.7 3.  4.2 1.2]\n",
      " [5.7 2.9 4.2 1.3]\n",
      " [6.2 2.9 4.3 1.3]\n",
      " [5.1 2.5 3.  1.1]\n",
      " [5.7 2.8 4.1 1.3]\n",
      " [6.3 3.3 6.  2.5]\n",
      " [5.8 2.7 5.1 1.9]\n",
      " [7.1 3.  5.9 2.1]\n",
      " [6.3 2.9 5.6 1.8]\n",
      " [6.5 3.  5.8 2.2]\n",
      " [7.6 3.  6.6 2.1]\n",
      " [4.9 2.5 4.5 1.7]\n",
      " [7.3 2.9 6.3 1.8]\n",
      " [6.7 2.5 5.8 1.8]\n",
      " [7.2 3.6 6.1 2.5]\n",
      " [6.5 3.2 5.1 2. ]\n",
      " [6.4 2.7 5.3 1.9]\n",
      " [6.8 3.  5.5 2.1]\n",
      " [5.7 2.5 5.  2. ]\n",
      " [5.8 2.8 5.1 2.4]\n",
      " [6.4 3.2 5.3 2.3]\n",
      " [6.5 3.  5.5 1.8]\n",
      " [7.7 3.8 6.7 2.2]\n",
      " [7.7 2.6 6.9 2.3]\n",
      " [6.  2.2 5.  1.5]\n",
      " [6.9 3.2 5.7 2.3]\n",
      " [5.6 2.8 4.9 2. ]\n",
      " [7.7 2.8 6.7 2. ]\n",
      " [6.3 2.7 4.9 1.8]\n",
      " [6.7 3.3 5.7 2.1]\n",
      " [7.2 3.2 6.  1.8]\n",
      " [6.2 2.8 4.8 1.8]\n",
      " [6.1 3.  4.9 1.8]\n",
      " [6.4 2.8 5.6 2.1]\n",
      " [7.2 3.  5.8 1.6]\n",
      " [7.4 2.8 6.1 1.9]\n",
      " [7.9 3.8 6.4 2. ]\n",
      " [6.4 2.8 5.6 2.2]\n",
      " [6.3 2.8 5.1 1.5]\n",
      " [6.1 2.6 5.6 1.4]\n",
      " [7.7 3.  6.1 2.3]\n",
      " [6.3 3.4 5.6 2.4]\n",
      " [6.4 3.1 5.5 1.8]\n",
      " [6.  3.  4.8 1.8]\n",
      " [6.9 3.1 5.4 2.1]\n",
      " [6.7 3.1 5.6 2.4]\n",
      " [6.9 3.1 5.1 2.3]\n",
      " [5.8 2.7 5.1 1.9]\n",
      " [6.8 3.2 5.9 2.3]\n",
      " [6.7 3.3 5.7 2.5]\n",
      " [6.7 3.  5.2 2.3]\n",
      " [6.3 2.5 5.  1.9]\n",
      " [6.5 3.  5.2 2. ]\n",
      " [6.2 3.4 5.4 2.3]\n",
      " [5.9 3.  5.1 1.8]] ['Iris-setosa' 'Iris-setosa' 'Iris-setosa' 'Iris-setosa' 'Iris-setosa'\n",
      " 'Iris-setosa' 'Iris-setosa' 'Iris-setosa' 'Iris-setosa' 'Iris-setosa'\n",
      " 'Iris-setosa' 'Iris-setosa' 'Iris-setosa' 'Iris-setosa' 'Iris-setosa'\n",
      " 'Iris-setosa' 'Iris-setosa' 'Iris-setosa' 'Iris-setosa' 'Iris-setosa'\n",
      " 'Iris-setosa' 'Iris-setosa' 'Iris-setosa' 'Iris-setosa' 'Iris-setosa'\n",
      " 'Iris-setosa' 'Iris-setosa' 'Iris-setosa' 'Iris-setosa' 'Iris-setosa'\n",
      " 'Iris-setosa' 'Iris-setosa' 'Iris-setosa' 'Iris-setosa' 'Iris-setosa'\n",
      " 'Iris-setosa' 'Iris-setosa' 'Iris-setosa' 'Iris-setosa' 'Iris-setosa'\n",
      " 'Iris-setosa' 'Iris-setosa' 'Iris-setosa' 'Iris-setosa' 'Iris-setosa'\n",
      " 'Iris-setosa' 'Iris-setosa' 'Iris-setosa' 'Iris-setosa' 'Iris-setosa'\n",
      " 'Iris-versicolor' 'Iris-versicolor' 'Iris-versicolor' 'Iris-versicolor'\n",
      " 'Iris-versicolor' 'Iris-versicolor' 'Iris-versicolor' 'Iris-versicolor'\n",
      " 'Iris-versicolor' 'Iris-versicolor' 'Iris-versicolor' 'Iris-versicolor'\n",
      " 'Iris-versicolor' 'Iris-versicolor' 'Iris-versicolor' 'Iris-versicolor'\n",
      " 'Iris-versicolor' 'Iris-versicolor' 'Iris-versicolor' 'Iris-versicolor'\n",
      " 'Iris-versicolor' 'Iris-versicolor' 'Iris-versicolor' 'Iris-versicolor'\n",
      " 'Iris-versicolor' 'Iris-versicolor' 'Iris-versicolor' 'Iris-versicolor'\n",
      " 'Iris-versicolor' 'Iris-versicolor' 'Iris-versicolor' 'Iris-versicolor'\n",
      " 'Iris-versicolor' 'Iris-versicolor' 'Iris-versicolor' 'Iris-versicolor'\n",
      " 'Iris-versicolor' 'Iris-versicolor' 'Iris-versicolor' 'Iris-versicolor'\n",
      " 'Iris-versicolor' 'Iris-versicolor' 'Iris-versicolor' 'Iris-versicolor'\n",
      " 'Iris-versicolor' 'Iris-versicolor' 'Iris-versicolor' 'Iris-versicolor'\n",
      " 'Iris-versicolor' 'Iris-versicolor' 'Iris-virginica' 'Iris-virginica'\n",
      " 'Iris-virginica' 'Iris-virginica' 'Iris-virginica' 'Iris-virginica'\n",
      " 'Iris-virginica' 'Iris-virginica' 'Iris-virginica' 'Iris-virginica'\n",
      " 'Iris-virginica' 'Iris-virginica' 'Iris-virginica' 'Iris-virginica'\n",
      " 'Iris-virginica' 'Iris-virginica' 'Iris-virginica' 'Iris-virginica'\n",
      " 'Iris-virginica' 'Iris-virginica' 'Iris-virginica' 'Iris-virginica'\n",
      " 'Iris-virginica' 'Iris-virginica' 'Iris-virginica' 'Iris-virginica'\n",
      " 'Iris-virginica' 'Iris-virginica' 'Iris-virginica' 'Iris-virginica'\n",
      " 'Iris-virginica' 'Iris-virginica' 'Iris-virginica' 'Iris-virginica'\n",
      " 'Iris-virginica' 'Iris-virginica' 'Iris-virginica' 'Iris-virginica'\n",
      " 'Iris-virginica' 'Iris-virginica' 'Iris-virginica' 'Iris-virginica'\n",
      " 'Iris-virginica' 'Iris-virginica' 'Iris-virginica' 'Iris-virginica'\n",
      " 'Iris-virginica' 'Iris-virginica' 'Iris-virginica' 'Iris-virginica']\n"
     ]
    }
   ],
   "source": [
    "orig_data = np.loadtxt('iris.data', dtype='object', delimiter=',')\n",
    "print(orig_data)\n",
    "# We see that only the four first columns are numeric, the fifth is the species. Let's get the\n",
    "# numeric attributes into one array (contains numbers) and the species into a vector\n",
    "X, y = orig_data[:, 0:4].astype(float), orig_data[:, 4]\n",
    "print(X, y)"
   ]
  },
  {
   "cell_type": "markdown",
   "metadata": {
    "id": "8c-WckBURPJe"
   },
   "source": [
    "For a description of what the columns represent, see [the Iris data set page](https://archive.ics.uci.edu/ml/datasets/iris) (Attributes)."
   ]
  },
  {
   "cell_type": "code",
   "execution_count": 30,
   "metadata": {
    "id": "N47HKNEtRPJf"
   },
   "outputs": [],
   "source": [
    "# We will use the column names later\n",
    "col_names = ['sepal length', 'sepal width', 'petal length', 'petal width', 'class']"
   ]
  },
  {
   "cell_type": "markdown",
   "metadata": {
    "id": "fI4GZsgIRPJj"
   },
   "source": [
    "Let's compute the means of all four attributes. First, for all four classes of the flowers. Then, for Iris setosa only."
   ]
  },
  {
   "cell_type": "code",
   "execution_count": 31,
   "metadata": {
    "id": "0_5Yz8OARPJj"
   },
   "outputs": [
    {
     "name": "stdout",
     "output_type": "stream",
     "text": [
      "[5.84333333 3.054      3.75866667 1.19866667]\n",
      "[5.006 3.418 1.464 0.244]\n"
     ]
    }
   ],
   "source": [
    "print(np.mean(X, axis=0))\n",
    "print(np.mean(X[y == 'Iris-setosa'], axis=0))"
   ]
  },
  {
   "cell_type": "markdown",
   "metadata": {
    "id": "WSndnIxGRPJo"
   },
   "source": [
    "Here, the parameter 'axis' specifies that we are interested in column-wise means (0 actually means *rows*; one needs to *iterate over all rows* to get the mean value of a column). If we don't specify any axis, we will get the mean of all values of the array.\n",
    "\n",
    "In the second case we created a *Boolean vector* by the condition 'y == 'Iris-setosa''. The condition is *True* for all rows where the flower is of class 'Iris-setosa' and *False* for all other rows. Such a vector can be used to index an array. The result is that a row of the array is included if and only if the Boolean vector contains the value *True* in the corresponding position. The size of the Boolean vector should be equal to the number of rows in the array. We could also use a vector containing the indices of the wanted rows, and such a vector can be obtained using the 'where' function."
   ]
  },
  {
   "cell_type": "code",
   "execution_count": 32,
   "metadata": {
    "id": "7ArJ4aTbRPJo"
   },
   "outputs": [
    {
     "data": {
      "text/plain": [
       "array([5.006, 3.418, 1.464, 0.244])"
      ]
     },
     "execution_count": 32,
     "metadata": {},
     "output_type": "execute_result"
    }
   ],
   "source": [
    "np.mean(X[np.where(y=='Iris-setosa')], axis=0)"
   ]
  },
  {
   "cell_type": "markdown",
   "metadata": {
    "id": "_n1mq9q-RPJs"
   },
   "source": [
    "We can generate many kinds of random sequences with NumPy. This includes samples from various kinds of statistical distributions or randomly selected samples from a given collection, with or without replacement. The latter case, samples from a collection without replacement, are also *permutations*."
   ]
  },
  {
   "cell_type": "code",
   "execution_count": 33,
   "metadata": {
    "id": "ka_OtZc3RPJt"
   },
   "outputs": [
    {
     "name": "stdout",
     "output_type": "stream",
     "text": [
      "[1.19243317 2.5625161  1.49629768 2.3889926  1.88368714 1.37606567\n",
      " 1.5836207  1.96828598 2.95824094 1.92989965 2.99391925 1.72733065\n",
      " 1.88346279 2.11660682 2.64709808 2.44785199 1.41982616 2.89806384\n",
      " 2.55552417 1.68112663]\n",
      "['Iris-setosa' 'Iris-setosa' 'Iris-versicolor' 'Iris-setosa' 'Iris-setosa'\n",
      " 'Iris-virginica' 'Iris-setosa' 'Iris-setosa' 'Iris-versicolor'\n",
      " 'Iris-virginica' 'Iris-virginica' 'Iris-setosa' 'Iris-versicolor'\n",
      " 'Iris-versicolor' 'Iris-setosa' 'Iris-versicolor' 'Iris-virginica'\n",
      " 'Iris-versicolor' 'Iris-virginica' 'Iris-virginica' 'Iris-versicolor'\n",
      " 'Iris-setosa' 'Iris-virginica' 'Iris-virginica' 'Iris-versicolor'\n",
      " 'Iris-versicolor' 'Iris-setosa' 'Iris-virginica' 'Iris-setosa'\n",
      " 'Iris-versicolor' 'Iris-virginica' 'Iris-setosa' 'Iris-versicolor'\n",
      " 'Iris-setosa' 'Iris-versicolor' 'Iris-versicolor' 'Iris-virginica'\n",
      " 'Iris-versicolor' 'Iris-setosa' 'Iris-versicolor' 'Iris-versicolor'\n",
      " 'Iris-virginica' 'Iris-versicolor' 'Iris-versicolor' 'Iris-versicolor'\n",
      " 'Iris-virginica' 'Iris-versicolor' 'Iris-versicolor' 'Iris-virginica'\n",
      " 'Iris-setosa' 'Iris-setosa' 'Iris-setosa' 'Iris-setosa' 'Iris-virginica'\n",
      " 'Iris-virginica' 'Iris-setosa' 'Iris-versicolor' 'Iris-setosa'\n",
      " 'Iris-versicolor' 'Iris-versicolor' 'Iris-setosa' 'Iris-virginica'\n",
      " 'Iris-virginica' 'Iris-versicolor' 'Iris-virginica' 'Iris-setosa'\n",
      " 'Iris-virginica' 'Iris-virginica' 'Iris-virginica' 'Iris-virginica'\n",
      " 'Iris-setosa' 'Iris-virginica' 'Iris-virginica' 'Iris-virginica'\n",
      " 'Iris-virginica' 'Iris-versicolor' 'Iris-virginica' 'Iris-versicolor'\n",
      " 'Iris-setosa' 'Iris-virginica' 'Iris-setosa' 'Iris-setosa'\n",
      " 'Iris-virginica' 'Iris-versicolor' 'Iris-setosa' 'Iris-versicolor'\n",
      " 'Iris-versicolor' 'Iris-versicolor' 'Iris-setosa' 'Iris-virginica'\n",
      " 'Iris-versicolor' 'Iris-versicolor' 'Iris-virginica' 'Iris-virginica'\n",
      " 'Iris-setosa' 'Iris-versicolor' 'Iris-virginica' 'Iris-versicolor'\n",
      " 'Iris-virginica' 'Iris-virginica' 'Iris-setosa' 'Iris-versicolor'\n",
      " 'Iris-setosa' 'Iris-versicolor' 'Iris-setosa' 'Iris-setosa'\n",
      " 'Iris-versicolor' 'Iris-setosa' 'Iris-versicolor' 'Iris-setosa'\n",
      " 'Iris-versicolor' 'Iris-setosa' 'Iris-setosa' 'Iris-versicolor'\n",
      " 'Iris-virginica' 'Iris-setosa' 'Iris-setosa' 'Iris-virginica'\n",
      " 'Iris-versicolor' 'Iris-setosa' 'Iris-versicolor' 'Iris-setosa'\n",
      " 'Iris-versicolor' 'Iris-versicolor' 'Iris-versicolor' 'Iris-versicolor'\n",
      " 'Iris-versicolor' 'Iris-versicolor' 'Iris-setosa' 'Iris-virginica'\n",
      " 'Iris-setosa' 'Iris-virginica' 'Iris-virginica' 'Iris-setosa'\n",
      " 'Iris-versicolor' 'Iris-virginica' 'Iris-setosa' 'Iris-virginica'\n",
      " 'Iris-setosa' 'Iris-setosa' 'Iris-virginica' 'Iris-setosa'\n",
      " 'Iris-virginica' 'Iris-setosa' 'Iris-virginica' 'Iris-setosa'\n",
      " 'Iris-virginica' 'Iris-virginica' 'Iris-virginica' 'Iris-virginica']\n"
     ]
    }
   ],
   "source": [
    "print(np.random.uniform(low=1, high=3, size=20))                   # Samples from a uniform distributions\n",
    "shuffled_classes = np.random.choice(y, size=len(y), replace=False) # Random permutation of y\n",
    "print(shuffled_classes)"
   ]
  },
  {
   "cell_type": "markdown",
   "metadata": {
    "id": "4QWO7suURPJx"
   },
   "source": [
    "## Pandas\n",
    "NumPy is a powerful library but for interactively working with tabular data it is not always ideal. For instance, we would quite likely want to *label* our columns in some way so that we don't need to look at a separate vector containing the labels whenever we have forgotten what the columns stand for. We might also want to use those labels as column indices instead of always using numbers from zero to the number of columns minus one. Perhaps we would like to do the same with rows, too.\n",
    "\n",
    "Pandas is a package providing just that and more. The basic data structures of Pandas are Series (1D array, similar to a NumPy vector but item indices (labels) need not be integers) and DataFrame (similar to 2D NumPy array, with freely selectable row and column labels).\n",
    "\n",
    "Let's load the Iris data into a Pandas DataFrame."
   ]
  },
  {
   "cell_type": "code",
   "execution_count": 34,
   "metadata": {
    "id": "R9WYFrIURPJ2"
   },
   "outputs": [
    {
     "name": "stdout",
     "output_type": "stream",
     "text": [
      "sepal length    float64\n",
      "sepal width     float64\n",
      "petal length    float64\n",
      "petal width     float64\n",
      "class            object\n",
      "dtype: object sepal length    object\n",
      "sepal width     object\n",
      "petal length    object\n",
      "petal width     object\n",
      "class           object\n",
      "dtype: object\n"
     ]
    }
   ],
   "source": [
    "import pandas as pd\n",
    "# Way 1: from a file\n",
    "df1 = pd.read_csv('iris.data', names=col_names)\n",
    "# Way 2: from a NumPy array\n",
    "df2 = pd.DataFrame(orig_data, columns=col_names)\n",
    "print(df1.dtypes, df2.dtypes)"
   ]
  },
  {
   "cell_type": "markdown",
   "metadata": {
    "id": "p5XcvqivRPJ5"
   },
   "source": [
    "We note that the two ways of getting the data led to different data types of the columns. This is because in the NumPy array all values were of type object. In a Pandas DataFrame different columns can have different data types but in NumPy arrays that is not supported.\n",
    "\n",
    "If we want to work with Pandas instead of NumPy, we would usually prefer the first way. The read_csv funtion of Pandas can also get the names of the columns from the file. Had we omitted 'names=col_names', the first row of the file would have been used as column names. In the present case that does not make sense because the file does not contain column labels. If numbers 0, 1, ... are acceptable as column names, we could omit the names parameter and add a new parameter 'header=None'. If some column contains values that we want to use as row names, we can add the parameter 'index_col= &lt;column number or name&gt;'.\n",
    "\n",
    "Now that we have loaded the data, let's do something with it. Like with NumPy, we can compute row and column means and select rows or columns from the table."
   ]
  },
  {
   "cell_type": "code",
   "execution_count": 35,
   "metadata": {
    "id": "FHqdLVWkRPJ6"
   },
   "outputs": [
    {
     "name": "stdout",
     "output_type": "stream",
     "text": [
      "sepal length    5.843333\n",
      "sepal width     3.054000\n",
      "petal length    3.758667\n",
      "petal width     1.198667\n",
      "dtype: float64\n",
      "0      2.550\n",
      "1      2.375\n",
      "2      2.350\n",
      "3      2.350\n",
      "4      2.550\n",
      "       ...  \n",
      "145    4.300\n",
      "146    3.925\n",
      "147    4.175\n",
      "148    4.325\n",
      "149    3.950\n",
      "Length: 150, dtype: float64\n",
      "sepal length    5.006\n",
      "sepal width     3.418\n",
      "petal length    1.464\n",
      "petal width     0.244\n",
      "dtype: float64\n"
     ]
    },
    {
     "name": "stderr",
     "output_type": "stream",
     "text": [
      "<ipython-input-35-f5b24e598af2>:1: FutureWarning: Dropping of nuisance columns in DataFrame reductions (with 'numeric_only=None') is deprecated; in a future version this will raise TypeError.  Select only valid columns before calling the reduction.\n",
      "  print(df1.mean())\n",
      "<ipython-input-35-f5b24e598af2>:2: FutureWarning: Dropping of nuisance columns in DataFrame reductions (with 'numeric_only=None') is deprecated; in a future version this will raise TypeError.  Select only valid columns before calling the reduction.\n",
      "  print(df1.mean(axis=1))          # Row means\n",
      "<ipython-input-35-f5b24e598af2>:4: FutureWarning: Dropping of nuisance columns in DataFrame reductions (with 'numeric_only=None') is deprecated; in a future version this will raise TypeError.  Select only valid columns before calling the reduction.\n",
      "  print(setosa.mean())             # Attribute (column) means for Iris setosa\n"
     ]
    }
   ],
   "source": [
    "print(df1.mean()) \n",
    "print(df1.mean(axis=1))          # Row means\n",
    "setosa = df1[df1['class'] == 'Iris-setosa']\n",
    "print(setosa.mean())             # Attribute (column) means for Iris setosa"
   ]
  },
  {
   "cell_type": "markdown",
   "metadata": {
    "id": "V6I64ALoRPJ-"
   },
   "source": [
    "As we saw above, the syntax is slightly different from NumPy when we want to compute, e.g., the means of some columns. Here, mean is a function (method) of the DataFrame object and it is therefore called like 'df1.mean()', whereas in NumPy we used 'np.mean(X, axis=0)'. Also note that with Pandas we did not get the mean of the entire array when we did not specify an axis.\n",
    "\n",
    "We can convert a Pandas DataFrame to a NumPy array. The recommended way to do that depends on Pandas version. In older versions of Pandas one can use df.values, and the newer versions also support a method df.to_numpy()"
   ]
  },
  {
   "cell_type": "code",
   "execution_count": 36,
   "metadata": {
    "id": "Kmdo8CtIRPJ-"
   },
   "outputs": [
    {
     "data": {
      "text/plain": [
       "3.4636666666666662"
      ]
     },
     "execution_count": 36,
     "metadata": {},
     "output_type": "execute_result"
    }
   ],
   "source": [
    "np.mean(df1.iloc[:, 0:4].values)"
   ]
  },
  {
   "cell_type": "markdown",
   "metadata": {
    "id": "KRDpLtNlRPKC"
   },
   "source": [
    "Here we converted a part of the DataFrame into a NumPy array and then computed the mean of all values.\n",
    "\n",
    "There are many ways to index a DataFrame. One can use df[&lt;column name&gt;], df[Boolean_vector], df.loc[...] and df.iloc[...]. The first two can be a bit confusing at first. This is because the first one selects columns and the second one selects rows, despite the calls looking very similar to each other. Also, in NumPy we can select several rows of an array by a vector of row indices but in Pandas df[vector_of_labels] selects columns (unlike df[Boolean_vector] which selects rows).\n",
    "\n",
    "To select rows or colums by numeric indices instead of row/column labels, one can use df.iloc[rows, columns]. Above, we selected all rows (indices ':' on the first axis) and four first columns (indices '0:4' on the second axis). When using iloc, the labels of the rows and columns are ignored, even if they happen to be numbers.\n",
    "\n",
    "The final way, df.loc[rows, columns] works similarly to iloc but selection is done by row and column labels. One difference is that, for example, df.loc[:, start:end] contains also the column df[end] whereas it is omitted when using iloc. Here are some examples:"
   ]
  },
  {
   "cell_type": "code",
   "execution_count": 37,
   "metadata": {
    "id": "ficfnRWURPKC",
    "scrolled": true
   },
   "outputs": [
    {
     "name": "stdout",
     "output_type": "stream",
     "text": [
      "0         Iris-setosa\n",
      "1         Iris-setosa\n",
      "2         Iris-setosa\n",
      "3         Iris-setosa\n",
      "4         Iris-setosa\n",
      "            ...      \n",
      "145    Iris-virginica\n",
      "146    Iris-virginica\n",
      "147    Iris-virginica\n",
      "148    Iris-virginica\n",
      "149    Iris-virginica\n",
      "Name: class, Length: 150, dtype: object\n",
      "0    Iris-setosa\n",
      "1    Iris-setosa\n",
      "2    Iris-setosa\n",
      "3    Iris-setosa\n",
      "4    Iris-setosa\n",
      "Name: class, dtype: object\n",
      "   sepal length  sepal width  petal length  petal width\n",
      "0           5.1          3.5           1.4          0.2\n",
      "1           4.9          3.0           1.4          0.2\n",
      "2           4.7          3.2           1.3          0.2\n",
      "3           4.6          3.1           1.5          0.2\n",
      "4           5.0          3.6           1.4          0.2\n",
      "   sepal length  sepal width  petal length  petal width        class\n",
      "0           5.1          3.5           1.4          0.2  Iris-setosa\n",
      "1           4.9          3.0           1.4          0.2  Iris-setosa\n",
      "2           4.7          3.2           1.3          0.2  Iris-setosa\n",
      "3           4.6          3.1           1.5          0.2  Iris-setosa\n",
      "4           5.0          3.6           1.4          0.2  Iris-setosa\n",
      "5           5.4          3.9           1.7          0.4  Iris-setosa\n"
     ]
    }
   ],
   "source": [
    "print(df1['class'])                           # Select a column by name\n",
    "print(df1.iloc[:5, 4])                        # Select 5 rows and one column by index\n",
    "print(df1.iloc[:5, 0:4])                      # Select 5 rows and 4 columns by index\n",
    "print(df1.loc[:5, 'sepal length':'class'])    # Select 5 rows and columns between 'sepal length' and 'class' -\n",
    "                                              # including the column 'class'. Here that selects all columns."
   ]
  },
  {
   "cell_type": "markdown",
   "metadata": {
    "id": "k8th7YKeRPKE"
   },
   "source": [
    "Pandas can also compute correlations and draw scatter plots and histograms for us."
   ]
  },
  {
   "cell_type": "code",
   "execution_count": 38,
   "metadata": {
    "id": "m3-lA5QlRPKF"
   },
   "outputs": [
    {
     "data": {
      "text/html": [
       "<div>\n",
       "<style scoped>\n",
       "    .dataframe tbody tr th:only-of-type {\n",
       "        vertical-align: middle;\n",
       "    }\n",
       "\n",
       "    .dataframe tbody tr th {\n",
       "        vertical-align: top;\n",
       "    }\n",
       "\n",
       "    .dataframe thead th {\n",
       "        text-align: right;\n",
       "    }\n",
       "</style>\n",
       "<table border=\"1\" class=\"dataframe\">\n",
       "  <thead>\n",
       "    <tr style=\"text-align: right;\">\n",
       "      <th></th>\n",
       "      <th>sepal length</th>\n",
       "      <th>sepal width</th>\n",
       "      <th>petal length</th>\n",
       "      <th>petal width</th>\n",
       "    </tr>\n",
       "  </thead>\n",
       "  <tbody>\n",
       "    <tr>\n",
       "      <th>sepal length</th>\n",
       "      <td>1.000000</td>\n",
       "      <td>-0.109369</td>\n",
       "      <td>0.871754</td>\n",
       "      <td>0.817954</td>\n",
       "    </tr>\n",
       "    <tr>\n",
       "      <th>sepal width</th>\n",
       "      <td>-0.109369</td>\n",
       "      <td>1.000000</td>\n",
       "      <td>-0.420516</td>\n",
       "      <td>-0.356544</td>\n",
       "    </tr>\n",
       "    <tr>\n",
       "      <th>petal length</th>\n",
       "      <td>0.871754</td>\n",
       "      <td>-0.420516</td>\n",
       "      <td>1.000000</td>\n",
       "      <td>0.962757</td>\n",
       "    </tr>\n",
       "    <tr>\n",
       "      <th>petal width</th>\n",
       "      <td>0.817954</td>\n",
       "      <td>-0.356544</td>\n",
       "      <td>0.962757</td>\n",
       "      <td>1.000000</td>\n",
       "    </tr>\n",
       "  </tbody>\n",
       "</table>\n",
       "</div>"
      ],
      "text/plain": [
       "              sepal length  sepal width  petal length  petal width\n",
       "sepal length      1.000000    -0.109369      0.871754     0.817954\n",
       "sepal width      -0.109369     1.000000     -0.420516    -0.356544\n",
       "petal length      0.871754    -0.420516      1.000000     0.962757\n",
       "petal width       0.817954    -0.356544      0.962757     1.000000"
      ]
     },
     "execution_count": 38,
     "metadata": {},
     "output_type": "execute_result"
    }
   ],
   "source": [
    "df1.corr()           # Correlations between columns"
   ]
  },
  {
   "cell_type": "code",
   "execution_count": 39,
   "metadata": {
    "id": "626JaV73RPKJ"
   },
   "outputs": [
    {
     "data": {
      "text/plain": [
       "array([[<AxesSubplot:xlabel='sepal length', ylabel='sepal length'>,\n",
       "        <AxesSubplot:xlabel='sepal width', ylabel='sepal length'>,\n",
       "        <AxesSubplot:xlabel='petal length', ylabel='sepal length'>,\n",
       "        <AxesSubplot:xlabel='petal width', ylabel='sepal length'>],\n",
       "       [<AxesSubplot:xlabel='sepal length', ylabel='sepal width'>,\n",
       "        <AxesSubplot:xlabel='sepal width', ylabel='sepal width'>,\n",
       "        <AxesSubplot:xlabel='petal length', ylabel='sepal width'>,\n",
       "        <AxesSubplot:xlabel='petal width', ylabel='sepal width'>],\n",
       "       [<AxesSubplot:xlabel='sepal length', ylabel='petal length'>,\n",
       "        <AxesSubplot:xlabel='sepal width', ylabel='petal length'>,\n",
       "        <AxesSubplot:xlabel='petal length', ylabel='petal length'>,\n",
       "        <AxesSubplot:xlabel='petal width', ylabel='petal length'>],\n",
       "       [<AxesSubplot:xlabel='sepal length', ylabel='petal width'>,\n",
       "        <AxesSubplot:xlabel='sepal width', ylabel='petal width'>,\n",
       "        <AxesSubplot:xlabel='petal length', ylabel='petal width'>,\n",
       "        <AxesSubplot:xlabel='petal width', ylabel='petal width'>]],\n",
       "      dtype=object)"
      ]
     },
     "execution_count": 39,
     "metadata": {},
     "output_type": "execute_result"
    },
    {
     "data": {
      "image/png": "[encoded data removed]",
      "text/plain": [
       "<Figure size 432x288 with 16 Axes>"
      ]
     },
     "metadata": {
      "needs_background": "light"
     },
     "output_type": "display_data"
    }
   ],
   "source": [
    "%matplotlib inline\n",
    "# Without the above line the figure may not be shown. This 'magic incantation' is only needed once in a Jupyter\n",
    "# Notebook document, before the first time we draw a figure.\n",
    "\n",
    "pd.plotting.scatter_matrix(df1)"
   ]
  },
  {
   "cell_type": "markdown",
   "metadata": {
    "id": "hv5AdpOsRPKL"
   },
   "source": [
    "Pandas offers many functionalities not covered in this tutorial. For instance, one can make queries involving multiple tables, join tables etc. For more details, see [comparison with SQL](https://pandas.pydata.org/pandas-docs/stable/getting_started/comparison/comparison_with_sql.html). However, we won't need advanced functionality during this course. So, let's proceed to the next topic."
   ]
  },
  {
   "cell_type": "markdown",
   "metadata": {
    "id": "pZZGwSzuRPKM"
   },
   "source": [
    "## Matplotlib\n",
    "When we get a new data set, we usually want to make different kinds of plots to see what is in the data. There are other use cases for plots, too, such as reporting our results in a visual way. Matplotlib is one of many possible tools for visualization. Basic usage of Matplotlib is quite easy but more advanced plotting can be a bit cumbersome. In this course our needs are relatively simple.\n",
    "\n",
    "Let's start by plotting a function of one variable $y=f(x)$."
   ]
  },
  {
   "cell_type": "code",
   "execution_count": 40,
   "metadata": {
    "id": "O_52yLjLRPKN"
   },
   "outputs": [
    {
     "data": {
      "text/plain": [
       "[<matplotlib.lines.Line2D at 0x1b06c5ea400>]"
      ]
     },
     "execution_count": 40,
     "metadata": {},
     "output_type": "execute_result"
    },
    {
     "data": {
      "image/png": "[encoded data removed]",
      "text/plain": [
       "<Figure size 432x288 with 1 Axes>"
      ]
     },
     "metadata": {
      "needs_background": "light"
     },
     "output_type": "display_data"
    }
   ],
   "source": [
    "import matplotlib.pyplot as plt\n",
    "\n",
    "x = np.linspace(0, 2*np.pi, 50)\n",
    "y = np.sin(x)\n",
    "\n",
    "plt.plot(x, y, 'o', color='blue')              # Draw points without connecting them by line segments\n",
    "plt.plot(x, y, color='black')                  # Connect consecutive points with line segments"
   ]
  },
  {
   "cell_type": "markdown",
   "metadata": {
    "id": "quHImpYuRPKQ"
   },
   "source": [
    "It is possible to make a plot consisting of several subplots."
   ]
  },
  {
   "cell_type": "code",
   "execution_count": 41,
   "metadata": {
    "id": "8-_fyY24RPKR"
   },
   "outputs": [
    {
     "data": {
      "text/plain": [
       "[<matplotlib.lines.Line2D at 0x1b06c740cd0>]"
      ]
     },
     "execution_count": 41,
     "metadata": {},
     "output_type": "execute_result"
    },
    {
     "data": {
      "image/png": "[encoded data removed]",
      "text/plain": [
       "<Figure size 432x288 with 4 Axes>"
      ]
     },
     "metadata": {
      "needs_background": "light"
     },
     "output_type": "display_data"
    }
   ],
   "source": [
    "plt.subplot(2, 2, 1)\n",
    "plt.hist(df1['sepal length'])                         # Histogram\n",
    "\n",
    "plt.subplot(2, 2, 2)\n",
    "plt.scatter(df1['sepal length'], df1['petal length']) # Scatter plot\n",
    "\n",
    "# Next, we will try plotting a Pandas DataFrame. First we put some data to the DataFrame\n",
    "plt.subplot(2, 2, 3)\n",
    "x2 = np.linspace(10, 20, 500)\n",
    "y2 = np.sin(x2)\n",
    "y3 = np.cos(x2)\n",
    "y4 = y2/x2\n",
    "df = pd.DataFrame(columns=['sin(x)', 'cos(x)', 'sin(x)/x'])\n",
    "df['sin(x)'] = y2\n",
    "df['cos(x)'] = y3\n",
    "df['sin(x)/x'] = y4\n",
    "df = df.set_index(x2)\n",
    "plt.plot(df)                            # Plots all columns of the data frame\n",
    "plt.legend(df.columns)                  # Let's add a legend - although it won't look nice here\n",
    "\n",
    "# If we plot a sequence of y values, the x values will be 0, 1, ... in the plot. Here,\n",
    "# that gives a rather misleading impression of the function we are plotting.\n",
    "plt.subplot(2, 2, 4)\n",
    "plt.plot(df['sin(x)'].values)"
   ]
  },
  {
   "cell_type": "markdown",
   "metadata": {
    "id": "J9OLNnjKRPKU"
   },
   "source": [
    "We can add a title and axis labels to a plot:"
   ]
  },
  {
   "cell_type": "code",
   "execution_count": 42,
   "metadata": {
    "id": "Xztd6yiQRPKV"
   },
   "outputs": [
    {
     "data": {
      "text/plain": [
       "Text(0, 0.5, 'Petal length (cm)')"
      ]
     },
     "execution_count": 42,
     "metadata": {},
     "output_type": "execute_result"
    },
    {
     "data": {
      "image/png": "[encoded data removed]",
      "text/plain": [
       "<Figure size 432x288 with 1 Axes>"
      ]
     },
     "metadata": {
      "needs_background": "light"
     },
     "output_type": "display_data"
    }
   ],
   "source": [
    "plt.scatter(df1['sepal length'], df1['petal length'])\n",
    "plt.title('Sepal and petal length')\n",
    "plt.xlabel('Sepal length (cm)')\n",
    "plt.ylabel('Petal length (cm)')"
   ]
  },
  {
   "cell_type": "markdown",
   "metadata": {
    "id": "7lCMdVu6RPKZ"
   },
   "source": [
    "If you need to know Matplotlib in greater detail, you might check, for example, [Pyplot tutorial](https://matplotlib.org/3.1.1/tutorials/introductory/pyplot.html#sphx-glr-tutorials-introductory-pyplot-py).\n",
    "\n",
    "But now, it is time for some exercises!\n",
    "\n",
    "(Optional) If you are using Google Colab, start again with uploading the required files 'exercise_data.csv'."
   ]
  },
  {
   "cell_type": "markdown",
   "metadata": {
    "id": "rDSIdFtWYpFc"
   },
   "source": [
    "## Exercises\n",
    "\n",
    "(Optional) If you are using Google Colab, start again with uploading the required files 'exercise_data.csv'."
   ]
  },
  {
   "cell_type": "code",
   "execution_count": 43,
   "metadata": {
    "id": "uNTBQ4NHYYh_"
   },
   "outputs": [],
   "source": [
    "#from google.colab import files\n",
    "#uploaded = files.upload()"
   ]
  },
  {
   "cell_type": "markdown",
   "metadata": {
    "id": "vNrsmeEZRPKa"
   },
   "source": [
    "Use the included data matrix 'exercise_data.csv'. Solve the following exercises.\n",
    "\n",
    "1. Load the data into a Pandas data frame.\n",
    "1. Find all objects of class 1 whose height is over 25 units. Print all of their attributes. *Hint*: you can combine the results of two comparisons using the '&' operator (class is 1 *and* height is over 25). Parentheses may be needed.\n",
    "1. Compute the mean of each attribute for the whole data.\n",
    "1. Make a plot of weights (y axis) vs. heights (x axis).\n",
    "1. Make a plot of weights (y axis) vs. \"size\" (=$height \\cdot width^2$, x axis).\n",
    "1. Like 4-5 but limited to objects of class 1.\n",
    "1. Do you see anything interesting in the plots?"
   ]
  },
  {
   "cell_type": "code",
   "execution_count": 44,
   "metadata": {
    "id": "AHWRFqW9RPKb"
   },
   "outputs": [],
   "source": [
    "#1\n",
    "#loads data into Pandas data frame\n",
    "exercise_df = pd.read_csv('exercise_data.csv')"
   ]
  },
  {
   "cell_type": "code",
   "execution_count": 45,
   "metadata": {
    "id": "t3BzyT_0RPKh"
   },
   "outputs": [
    {
     "name": "stdout",
     "output_type": "stream",
     "text": [
      "    Unnamed: 0     height     width      weight  class\n",
      "4            4  27.364656  7.777790  166.997659      1\n",
      "16          16  25.640493  6.852879  122.388594      1\n",
      "21          21  25.343498  7.226682  135.671038      1\n",
      "33          33  26.893780  7.624959  164.284870      1\n",
      "44          44  32.085549  9.016029  263.542786      1\n"
     ]
    }
   ],
   "source": [
    "#2\n",
    "#finds and saves the correct objects to variable objs\n",
    "objs = exercise_df[(exercise_df['class'] == 1) & (exercise_df['height'] > 25)]\n",
    "print (objs)"
   ]
  },
  {
   "cell_type": "code",
   "execution_count": 46,
   "metadata": {
    "id": "ZfD-wN4IRPKn"
   },
   "outputs": [
    {
     "name": "stdout",
     "output_type": "stream",
     "text": [
      "Unnamed: 0     64.000000\n",
      "height         31.938985\n",
      "width          15.431009\n",
      "weight        735.292601\n",
      "class           1.860465\n",
      "dtype: float64\n"
     ]
    }
   ],
   "source": [
    "#3\n",
    "#calculates the mean of each attribute and saves them a new data frame\n",
    "#setting axis = 0 calculate column means \n",
    "#axis = 1 would be calculate row means\n",
    "means = exercise_df.mean(axis = 0)\n",
    "print(means)"
   ]
  },
  {
   "cell_type": "code",
   "execution_count": 51,
   "metadata": {
    "id": "XT1_G5O1RPKq"
   },
   "outputs": [
    {
     "data": {
      "text/plain": [
       "Text(0, 0.5, 'Weight')"
      ]
     },
     "execution_count": 51,
     "metadata": {},
     "output_type": "execute_result"
    },
    {
     "data": {
      "image/png": "[encoded data removed]",
      "text/plain": [
       "<Figure size 432x288 with 1 Axes>"
      ]
     },
     "metadata": {
      "needs_background": "light"
     },
     "output_type": "display_data"
    }
   ],
   "source": [
    "#4\n",
    "#saves heights and weights to new variables called x and y\n",
    "x = exercise_df['height']\n",
    "y = exercise_df['weight']\n",
    "#makes a new scatter plot using the new variables\n",
    "plt.scatter(x, y, marker = '.')\n",
    "plt.xlabel('Height')\n",
    "plt.ylabel('Weight')\n"
   ]
  },
  {
   "cell_type": "code",
   "execution_count": 55,
   "metadata": {
    "id": "e4AuqUARRPKt"
   },
   "outputs": [
    {
     "data": {
      "text/plain": [
       "Text(0, 0.5, 'Weight')"
      ]
     },
     "execution_count": 55,
     "metadata": {},
     "output_type": "execute_result"
    },
    {
     "data": {
      "image/png": "[encoded data removed]",
      "text/plain": [
       "<Figure size 432x288 with 1 Axes>"
      ]
     },
     "metadata": {
      "needs_background": "light"
     },
     "output_type": "display_data"
    }
   ],
   "source": [
    "#5\n",
    "#calculates heights and saves them in a new variable\n",
    "#using \".values\" converts the pandas dataframe into a numpy array\n",
    "x = exercise_df['height'].values * exercise_df['width'].values ** 2\n",
    "#saves weights in a new variable\n",
    "y = exercise_df['weight'] \n",
    "#creates a scatter plot\n",
    "plt.scatter(x, y, marker = '.') \n",
    "plt.xlabel('Size (Height*Width^2)')\n",
    "plt.ylabel('Weight')"
   ]
  },
  {
   "cell_type": "code",
   "execution_count": 57,
   "metadata": {
    "id": "JBroLJuuRPKw"
   },
   "outputs": [
    {
     "data": {
      "text/plain": [
       "Text(0.5, 0, 'Size (Height*Width^2)')"
      ]
     },
     "execution_count": 57,
     "metadata": {},
     "output_type": "execute_result"
    },
    {
     "data": {
      "image/png": "[encoded data removed]",
      "text/plain": [
       "<Figure size 432x288 with 2 Axes>"
      ]
     },
     "metadata": {
      "needs_background": "light"
     },
     "output_type": "display_data"
    }
   ],
   "source": [
    "#6\n",
    "#saves all the objects in class 1 in a new dataframe\n",
    "exercise_df2 = exercise_df[exercise_df['class'] == 1]\n",
    "#the plots will be displayed in one row and two columns\n",
    "#creates the first subplot\n",
    "plt.subplot(1,2,1) \n",
    "#creates a scatter plot\n",
    "plt.scatter(exercise_df2['height'], exercise_df2['weight'], marker = '.')\n",
    "plt.xlabel('Height')\n",
    "plt.ylabel('Weight')\n",
    "#creates the second subplot\n",
    "#the plots will be displayed in \n",
    "plt.subplot(1,2,2)\n",
    "plt.scatter(exercise_df2['height'].values * exercise_df2['width'].values ** 2, exercise_df2['weight'], marker = '.', color = 'red')\n",
    "plt.xlabel('Size (Height*Width^2)')"
   ]
  },
  {
   "cell_type": "code",
   "execution_count": 50,
   "metadata": {
    "id": "XoDpWJ_gRPK1"
   },
   "outputs": [],
   "source": [
    "#7\n",
    "#Increasing height or size increases weight\n",
    "#It's hard to say whether weight and height are polynomially or exponentially related\n",
    "#Weight and size however are quite clearly linearly related, except for few of the smallest objects found in the dataset\n",
    "\n",
    "#When looking at only objects belonging to class 1 the relations behave similarly\n",
    "#It seems however, that the objects in class 1 are smaller than others"
   ]
  }
 ],
 "metadata": {
  "colab": {
   "name": "DAKD2020Exercise1.ipynb",
   "provenance": []
  },
  "interpreter": {
   "hash": "89b2fca5fe9c27b455b820a8faf3143e45d6f37baa93dc4d293054b6ea660f15"
  },
  "kernelspec": {
   "display_name": "Python 3.9.2 64-bit",
   "name": "python3"
  },
  "language_info": {
   "codemirror_mode": {
    "name": "ipython",
    "version": 3
   },
   "file_extension": ".py",
   "mimetype": "text/x-python",
   "name": "python",
   "nbconvert_exporter": "python",
   "pygments_lexer": "ipython3",
   "version": "3.9.2"
  }
 },
 "nbformat": 4,
 "nbformat_minor": 4
}
