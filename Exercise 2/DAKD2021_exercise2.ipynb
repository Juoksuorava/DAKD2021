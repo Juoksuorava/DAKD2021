{
 "cells": [
  {
   "cell_type": "markdown",
   "metadata": {},
   "source": [
    "# <font color = red> *** FILL YOUR INFORMATION HERE *** </font>\n",
    "Lauri Orava <br>\n",
    "516761 <br>\n",
    "laorav@utu.fi  <br>\n",
    "11.11.2021  <br>"
   ]
  },
  {
   "cell_type": "markdown",
   "metadata": {
    "id": "oBNFSZGc3BPa"
   },
   "source": [
    "______________\n",
    "# Data Analysis and Knowledge Discovery 2021 <br> Exercise 2, Data Understanding and Visualization"
   ]
  },
  {
   "cell_type": "markdown",
   "metadata": {
    "id": "W3jIT0S_3BPb"
   },
   "source": [
    "- This is the template for the second exercise. You can add more code and markup cells, as long as the flow of the notebook stays fluent and logical.\n",
    "\n",
    "- The aim of this exercise is to practice data understanding; check the content and validity of the data, correct and select data, and apply basic descriptive statistics and visualization for further understanding.\n",
    "\n",
    "- Two datasets are used: shipdata1_2021.csv and shipdata2_2021.csv. The same data will be used in the next exercise, with same attributes, but in a more cleaned format.<br> \n",
    "\n",
    "### General guidance for exercises \n",
    "\n",
    "- Answer **all** questions below, even if you can't get your script to fully work\n",
    "- Write clear and easily readable code, include explanations what your code does\n",
    "- Make informative illustrations: include labels for x and y axes, legends and captions for your plots\n",
    "- Before saving the ipynb file (and possible printing) run: \"Restart & Run all\", to make sure you return a file that works as expected.\n",
    "- Grading: *Fail*/*Pass*/*Pass with honors* (+1)\n",
    "- +1 bonus point (grading *Pass with honors*) requires a **completely** correct solution and also thorough analysis. \n",
    "- If you encounter problems, Google first. If you can't find an answer to the problem, don't hesitate to ask in the Moodle discussion or directly via moodle chat or email from course assistants.\n",
    "- Note! Don't leave it to the last moment! No feedback service during weekends."
   ]
  },
  {
   "cell_type": "markdown",
   "metadata": {
    "id": "2I2WLapM3BPc"
   },
   "source": [
    "### Gather **all** packages needed for this notebook here:\n",
    "- This does not mean that you can not use any packages not imported below, but the exercise can be done without importing any extras"
   ]
  },
  {
   "cell_type": "code",
   "execution_count": 160,
   "metadata": {
    "id": "kNsRA1WF3BPc"
   },
   "outputs": [],
   "source": [
    "# Libraries\n",
    "import pandas as pd\n",
    "import numpy as np\n",
    "import matplotlib.pyplot as plt\n",
    "import seaborn as sns\n",
    "from sklearn.decomposition import PCA\n",
    "from sklearn.preprocessing import StandardScaler\n",
    "from IPython.display import display\n",
    "\n",
    "# Show the plots inline in the notebook\n",
    "%matplotlib inline"
   ]
  },
  {
   "cell_type": "markdown",
   "metadata": {},
   "source": [
    "________"
   ]
  },
  {
   "cell_type": "markdown",
   "metadata": {
    "id": "8AZs1Rdr3BPd"
   },
   "source": [
    "#  <font color = dimgrey> Know your data: an introduction to the data and domain knowledge </font>"
   ]
  },
  {
   "cell_type": "markdown",
   "metadata": {
    "id": "Tt8afU3t3BPe"
   },
   "source": [
    "The data used in this exercise is a subset from the Marine Traffic portal. More information available for example here:\n",
    "- https://www.marinetraffic.com/blog/information-transmitted-via-ais-signal/\n",
    "- https://www.diva-portal.org/smash/get/diva2:833998/FULLTEXT01.pdf\n",
    "- https://www.marinetraffic.com/en/data/"
   ]
  },
  {
   "cell_type": "markdown",
   "metadata": {
    "id": "2Y4dstDz3BPe"
   },
   "source": [
    "The exercise data has the following columns/attributes:\n",
    "- **MMSI**\n",
    "\n",
    "    * Maritime Mobile Service Identity. A radio-identification number that uniquely identifies a ship. The first three numbers tell the nationality of the ship - for example finnish ships would have the number 266 preceding them. The following six digits are the identifying part unique to each ship. <br> \n",
    "    \n",
    "- **Speed**\n",
    "    * The speed (in knots x10) that the subject vessel is reporting according to AIS transmissions\n",
    "- **COG**\n",
    "    * Course Over Ground<br> COG=3600 means “not available”\n",
    "- **Destination**\n",
    "    * The Destination of the subject vessel according to the AIS transmissions\n",
    "- **Ship_type**\n",
    "    * The Shiptype of the subject vessel according to AIS transmissions -\n",
    "- **Gross_tonnage**\n",
    "    * unitless measure that calculates the moulded volume of all enclosed spaces of a ship\n",
    "- **Length**\n",
    "    * The overall Length (in metres) of the subject vessel\n",
    "- **Breadth**\n",
    "    * The Breadth (in metres) of the subject vessel"
   ]
  },
  {
   "cell_type": "markdown",
   "metadata": {
    "id": "jMatXBHE3BPh"
   },
   "source": [
    "________\n",
    "## <font color = dimgrey> 1. Data import </font> \n",
    "\n",
    "Datasets for this exercise are available via the following url-paths\n",
    "- https://raw.githubusercontent.com/vajnie/DADK_2021/main/shipdata1_2021.csv\n",
    "- https://raw.githubusercontent.com/vajnie/DADK_2021/main/shipdata2_2021.csv\n",
    "_____________________\n",
    "\n",
    "**a)** First load data files shipdata1.csv and shipdata2.csv using pandas.\n",
    "-  *Note! Files were prepared by two different persons, so there are differences in the file formatting!*"
   ]
  },
  {
   "cell_type": "code",
   "execution_count": 161,
   "metadata": {},
   "outputs": [],
   "source": [
    "# Here are the paths to the files\n",
    "##################################\n",
    "# Load shipdata1.csv\n",
    "url1 = 'https://raw.githubusercontent.com/vajnie/DADK_2021/main/shipdata1_2021.csv' \n",
    "# Load shipdata2.csv\n",
    "url2 = 'https://raw.githubusercontent.com/vajnie/DADK_2021/main/shipdata2_2021.csv'\n",
    "#Print/show in notebook first 5 rows of both dataframes. "
   ]
  },
  {
   "cell_type": "code",
   "execution_count": 162,
   "metadata": {},
   "outputs": [],
   "source": [
    "# Your script for 1.a) here\n",
    "df1 = pd.read_csv(url1)\n",
    "df2 = pd.read_csv(url2)"
   ]
  },
  {
   "cell_type": "markdown",
   "metadata": {},
   "source": [
    "**b)** Print/show in notebook first 5 rows of both dataframes. "
   ]
  },
  {
   "cell_type": "code",
   "execution_count": 163,
   "metadata": {
    "id": "KDrTHlCb3BPi"
   },
   "outputs": [
    {
     "name": "stdout",
     "output_type": "stream",
     "text": [
      "        MMSI    Speed      COG Destination Ship_type  Gross_tonnage  Length  \\\n",
      "0  212209000  10.1000  64.3000      Hamina     Cargo           3416    94.9   \n",
      "1  212436000  13.5256  77.0755      Hamina    Tanker           6280   116.9   \n",
      "2  219082000   9.9000  74.7000      Hamina    Tanker           9980   141.2   \n",
      "3  219083000  11.6038  74.8000      Hamina    Tanker           9980   141.2   \n",
      "4  219426000  11.9203  56.3253      Hamina    Tanker           3219    99.9   \n",
      "\n",
      "   Breadth  \n",
      "0     15.3  \n",
      "1     18.0  \n",
      "2     21.9  \n",
      "3     21.6  \n",
      "4     15.0  \n",
      "        MMSI    Speed      COG Destination Ship_type  Gross_tonnage  Length  \\\n",
      "0  538002778  11,3631  74,6552      Porvoo    Tanker          30641     195   \n",
      "1  636016752     11,7     74,6      Porvoo    Tanker           3853    92,9   \n",
      "2  244870429  11,7126  69,5662      Porvoo    Tanker           7251     115   \n",
      "3  305653000  10,8253  56,4266      Porvoo     Cargo           6668  107,03   \n",
      "4  235060255  11,7311     80,9    Primorsk    Tanker          23353   184,0   \n",
      "\n",
      "  Breadth  \n",
      "0   32,24  \n",
      "1    15,3  \n",
      "2    18,6  \n",
      "3   18,42  \n",
      "4    27,7  \n"
     ]
    }
   ],
   "source": [
    "# Script here\n",
    "print(df1.head(5))\n",
    "print(df2.head(5))"
   ]
  },
  {
   "cell_type": "markdown",
   "metadata": {
    "id": "LKJX-Ese3BPh"
   },
   "source": [
    "**c)** For the vessel with **MMSI 231844000**, search for gross tonnage, length and breadth from one of the datasets "
   ]
  },
  {
   "cell_type": "code",
   "execution_count": 164,
   "metadata": {},
   "outputs": [
    {
     "name": "stdout",
     "output_type": "stream",
     "text": [
      "         MMSI  Gross_tonnage  Length  Breadth\n",
      "49  231844000           2876    88.9     13.2\n"
     ]
    }
   ],
   "source": [
    "# Script here\n",
    "vessel = df1.loc[df1['MMSI'] == 231844000]\n",
    "print(vessel[['MMSI', 'Gross_tonnage', 'Length', 'Breadth']])\n"
   ]
  },
  {
   "cell_type": "markdown",
   "metadata": {
    "id": "CDmjPHM03BPj"
   },
   "source": [
    "_________\n",
    "## <font color = dimgrey> 2. Fix numeric data"
   ]
  },
  {
   "cell_type": "markdown",
   "metadata": {
    "id": "RFW1K4QC3BPj"
   },
   "source": [
    "**a)** The dataframes have one systematic difference in numerical values. Look at the previous printouts: **What is the difference?**"
   ]
  },
  {
   "cell_type": "markdown",
   "metadata": {
    "id": "YkoQ67Lc3BPj"
   },
   "source": [
    "The first dataframe uses periods as dots while the second dataframe uses commas as dots. The rounding of values is also different. This is because the datatypes are different."
   ]
  },
  {
   "cell_type": "markdown",
   "metadata": {
    "id": "92VqOOHS3BPk"
   },
   "source": [
    "**b)** Fix this issue so that you correct shipdata2 dataframe to similar formatting as in shipdata1."
   ]
  },
  {
   "cell_type": "code",
   "execution_count": 165,
   "metadata": {
    "id": "S7WlI5Tm3BPm"
   },
   "outputs": [],
   "source": [
    "# Script here\n",
    "df2[\"Speed\"] = df2[\"Speed\"].str.replace(',','.').astype(float)\n",
    "df2[\"COG\"] = df2[\"COG\"].str.replace(',','.').astype(float)\n",
    "df2[\"Length\"] = df2[\"Length\"].str.replace(',','.').astype(float)\n",
    "df2[\"Breadth\"] = df2[\"Breadth\"].str.replace(',','.').astype(float)"
   ]
  },
  {
   "cell_type": "markdown",
   "metadata": {
    "id": "2iYVPURG3BPm"
   },
   "source": [
    "**c)** Print first 5 rows of  the now fixed  shipdata2 dataframe. "
   ]
  },
  {
   "cell_type": "code",
   "execution_count": 166,
   "metadata": {
    "id": "8D8Aj0YS3BPm",
    "outputId": "002bbdc5-79bf-44cb-c78b-7098ca9c3e7e"
   },
   "outputs": [
    {
     "name": "stdout",
     "output_type": "stream",
     "text": [
      "        MMSI    Speed      COG Destination Ship_type  Gross_tonnage  Length  \\\n",
      "0  538002778  11.3631  74.6552      Porvoo    Tanker          30641  195.00   \n",
      "1  636016752  11.7000  74.6000      Porvoo    Tanker           3853   92.90   \n",
      "2  244870429  11.7126  69.5662      Porvoo    Tanker           7251  115.00   \n",
      "3  305653000  10.8253  56.4266      Porvoo     Cargo           6668  107.03   \n",
      "4  235060255  11.7311  80.9000    Primorsk    Tanker          23353  184.00   \n",
      "\n",
      "   Breadth  \n",
      "0    32.24  \n",
      "1    15.30  \n",
      "2    18.60  \n",
      "3    18.42  \n",
      "4    27.70  \n"
     ]
    }
   ],
   "source": [
    "# Script here\n",
    "print(df2.head(5))"
   ]
  },
  {
   "cell_type": "markdown",
   "metadata": {
    "id": "_B2ZPVP-3BPm"
   },
   "source": [
    "__________\n",
    "## <font color = dimgrey> 3. Combine dataframes together"
   ]
  },
  {
   "cell_type": "markdown",
   "metadata": {
    "id": "avYPCBkq3BPm"
   },
   "source": [
    "*Tip for this section: Each subtask can be easily done with one (or two) line(s) of code when using Pandas.*"
   ]
  },
  {
   "cell_type": "markdown",
   "metadata": {
    "id": "2GVOZtYH3BPm"
   },
   "source": [
    "**a)** Add an additional column/attribute Origin which indicates the origin of the data (values 1, 2, according to shipdata name). This is often helpful for possible detective work, if there are any further direpancies in the data."
   ]
  },
  {
   "cell_type": "code",
   "execution_count": 167,
   "metadata": {
    "id": "YyI8heoB3BPn"
   },
   "outputs": [],
   "source": [
    "# Script here\n",
    "df1 = df1.assign(Origin=1)\n",
    "df2 = df2.assign(Origin=2)"
   ]
  },
  {
   "cell_type": "markdown",
   "metadata": {
    "id": "uhtSRP543BPn"
   },
   "source": [
    "**b)** Combine the two separate dataframes as one new dataframe."
   ]
  },
  {
   "cell_type": "code",
   "execution_count": 168,
   "metadata": {
    "id": "1LgPCG6B3BPn"
   },
   "outputs": [
    {
     "name": "stdout",
     "output_type": "stream",
     "text": [
      "         MMSI    Speed      COG Destination Ship_type  Gross_tonnage  Length  \\\n",
      "0   212209000  10.1000  64.3000      Hamina     Cargo           3416    94.9   \n",
      "1   212436000  13.5256  77.0755      Hamina    Tanker           6280   116.9   \n",
      "2   219082000   9.9000  74.7000      Hamina    Tanker           9980   141.2   \n",
      "3   219083000  11.6038  74.8000      Hamina    Tanker           9980   141.2   \n",
      "4   219426000  11.9203  56.3253      Hamina    Tanker           3219    99.9   \n",
      "..        ...      ...      ...         ...       ...            ...     ...   \n",
      "64  259768000  11.8492  80.3430      Porvoo    Tanker          11935   144.1   \n",
      "65  538002774  11.5935  67.3823      Porvoo    Tanker          30641   195.0   \n",
      "66  538002778  11.3631  74.6552      Porvoo    Tanker          30641   195.0   \n",
      "67  636016683  10.9000  75.4000      Porvoo    Tanker           5440   108.0   \n",
      "68  636016752  11.7000  74.6000      Porvoo    Tanker           3853    92.9   \n",
      "\n",
      "    Breadth  Origin  \n",
      "0     15.30       1  \n",
      "1     18.00       1  \n",
      "2     21.90       1  \n",
      "3     21.60       1  \n",
      "4     15.00       1  \n",
      "..      ...     ...  \n",
      "64    23.20       1  \n",
      "65    32.20       1  \n",
      "66    32.24       1  \n",
      "67    16.80       1  \n",
      "68    15.30       1  \n",
      "\n",
      "[69 rows x 9 columns]\n"
     ]
    }
   ],
   "source": [
    "# Script here\n",
    "temp = [df1, df2]\n",
    "print(df1)\n",
    "df = pd.concat(temp)"
   ]
  },
  {
   "cell_type": "markdown",
   "metadata": {
    "id": "YCrVo1xA3BPn"
   },
   "source": [
    "**c)** Check a sample of the new dataframe by taking a random sample of six rows and printing it."
   ]
  },
  {
   "cell_type": "code",
   "execution_count": 169,
   "metadata": {
    "id": "NX2ZGezx3BPn",
    "outputId": "3fc6ab80-4d46-4ad9-805c-fc04a7e48b22"
   },
   "outputs": [
    {
     "data": {
      "text/html": [
       "<div>\n",
       "<style scoped>\n",
       "    .dataframe tbody tr th:only-of-type {\n",
       "        vertical-align: middle;\n",
       "    }\n",
       "\n",
       "    .dataframe tbody tr th {\n",
       "        vertical-align: top;\n",
       "    }\n",
       "\n",
       "    .dataframe thead th {\n",
       "        text-align: right;\n",
       "    }\n",
       "</style>\n",
       "<table border=\"1\" class=\"dataframe\">\n",
       "  <thead>\n",
       "    <tr style=\"text-align: right;\">\n",
       "      <th></th>\n",
       "      <th>MMSI</th>\n",
       "      <th>Speed</th>\n",
       "      <th>COG</th>\n",
       "      <th>Destination</th>\n",
       "      <th>Ship_type</th>\n",
       "      <th>Gross_tonnage</th>\n",
       "      <th>Length</th>\n",
       "      <th>Breadth</th>\n",
       "      <th>Origin</th>\n",
       "    </tr>\n",
       "  </thead>\n",
       "  <tbody>\n",
       "    <tr>\n",
       "      <th>40</th>\n",
       "      <td>210319000</td>\n",
       "      <td>9.0000</td>\n",
       "      <td>73.7000</td>\n",
       "      <td>Valko-Loviisa</td>\n",
       "      <td>Cargo</td>\n",
       "      <td>1616</td>\n",
       "      <td>82.5</td>\n",
       "      <td>11.50</td>\n",
       "      <td>2</td>\n",
       "    </tr>\n",
       "    <tr>\n",
       "      <th>66</th>\n",
       "      <td>538002778</td>\n",
       "      <td>11.3631</td>\n",
       "      <td>74.6552</td>\n",
       "      <td>Porvoo</td>\n",
       "      <td>Tanker</td>\n",
       "      <td>30641</td>\n",
       "      <td>195.0</td>\n",
       "      <td>32.24</td>\n",
       "      <td>1</td>\n",
       "    </tr>\n",
       "    <tr>\n",
       "      <th>61</th>\n",
       "      <td>255714000</td>\n",
       "      <td>13.2697</td>\n",
       "      <td>60.3354</td>\n",
       "      <td>Porvoo</td>\n",
       "      <td>Tanker</td>\n",
       "      <td>3785</td>\n",
       "      <td>100.0</td>\n",
       "      <td>17.00</td>\n",
       "      <td>1</td>\n",
       "    </tr>\n",
       "    <tr>\n",
       "      <th>19</th>\n",
       "      <td>230961000</td>\n",
       "      <td>7.2000</td>\n",
       "      <td>73.7000</td>\n",
       "      <td>Tallinn</td>\n",
       "      <td>Tug</td>\n",
       "      <td>256</td>\n",
       "      <td>32.9</td>\n",
       "      <td>9.00</td>\n",
       "      <td>2</td>\n",
       "    </tr>\n",
       "    <tr>\n",
       "      <th>8</th>\n",
       "      <td>636015565</td>\n",
       "      <td>12.4056</td>\n",
       "      <td>81.3492</td>\n",
       "      <td>Primorsk</td>\n",
       "      <td>Tanker</td>\n",
       "      <td>66855</td>\n",
       "      <td>249.9</td>\n",
       "      <td>46.00</td>\n",
       "      <td>2</td>\n",
       "    </tr>\n",
       "    <tr>\n",
       "      <th>27</th>\n",
       "      <td>255801580</td>\n",
       "      <td>13.6877</td>\n",
       "      <td>57.4511</td>\n",
       "      <td>Kotka</td>\n",
       "      <td>Cargo</td>\n",
       "      <td>11596</td>\n",
       "      <td>125.5</td>\n",
       "      <td>18.80</td>\n",
       "      <td>1</td>\n",
       "    </tr>\n",
       "  </tbody>\n",
       "</table>\n",
       "</div>"
      ],
      "text/plain": [
       "         MMSI    Speed      COG    Destination Ship_type  Gross_tonnage  \\\n",
       "40  210319000   9.0000  73.7000  Valko-Loviisa     Cargo           1616   \n",
       "66  538002778  11.3631  74.6552         Porvoo    Tanker          30641   \n",
       "61  255714000  13.2697  60.3354         Porvoo    Tanker           3785   \n",
       "19  230961000   7.2000  73.7000        Tallinn       Tug            256   \n",
       "8   636015565  12.4056  81.3492       Primorsk    Tanker          66855   \n",
       "27  255801580  13.6877  57.4511          Kotka     Cargo          11596   \n",
       "\n",
       "    Length  Breadth  Origin  \n",
       "40    82.5    11.50       2  \n",
       "66   195.0    32.24       1  \n",
       "61   100.0    17.00       1  \n",
       "19    32.9     9.00       2  \n",
       "8    249.9    46.00       2  \n",
       "27   125.5    18.80       1  "
      ]
     },
     "execution_count": 169,
     "metadata": {},
     "output_type": "execute_result"
    }
   ],
   "source": [
    "# Script here\n",
    "df.sample(6)"
   ]
  },
  {
   "cell_type": "markdown",
   "metadata": {
    "id": "w4j_c3-13BPn"
   },
   "source": [
    "**d)** Check the shape of the new dataframe, try using df.info(). What information can you find in the output?"
   ]
  },
  {
   "cell_type": "code",
   "execution_count": 170,
   "metadata": {
    "id": "YPZNSIH83BPo",
    "outputId": "2b6da931-c8bd-44ca-dcd9-a22055f359e0"
   },
   "outputs": [
    {
     "name": "stdout",
     "output_type": "stream",
     "text": [
      "<class 'pandas.core.frame.DataFrame'>\n",
      "Int64Index: 136 entries, 0 to 66\n",
      "Data columns (total 9 columns):\n",
      " #   Column         Non-Null Count  Dtype  \n",
      "---  ------         --------------  -----  \n",
      " 0   MMSI           136 non-null    int64  \n",
      " 1   Speed          136 non-null    float64\n",
      " 2   COG            136 non-null    float64\n",
      " 3   Destination    136 non-null    object \n",
      " 4   Ship_type      135 non-null    object \n",
      " 5   Gross_tonnage  136 non-null    int64  \n",
      " 6   Length         136 non-null    float64\n",
      " 7   Breadth        136 non-null    float64\n",
      " 8   Origin         136 non-null    int64  \n",
      "dtypes: float64(4), int64(3), object(2)\n",
      "memory usage: 10.6+ KB\n"
     ]
    }
   ],
   "source": [
    "# Script here\n",
    "df.info()"
   ]
  },
  {
   "cell_type": "markdown",
   "metadata": {},
   "source": [
    "How many columns and rows can be found in the dataframe, what kind of datatypes are found, how many null values can be found."
   ]
  },
  {
   "cell_type": "markdown",
   "metadata": {
    "id": "qiwNVgA83BPo"
   },
   "source": [
    "__________\n",
    "## <font color = lightcoral> 4. Data cleaning"
   ]
  },
  {
   "cell_type": "markdown",
   "metadata": {
    "id": "n924dCoG3BPo"
   },
   "source": [
    "**a)** Check if there are any missing data."
   ]
  },
  {
   "cell_type": "code",
   "execution_count": 171,
   "metadata": {
    "id": "eWBFZihT3BPo",
    "outputId": "6f22f0fa-a0d2-41a9-bde7-8bbabe9ab62d"
   },
   "outputs": [
    {
     "data": {
      "text/plain": [
       "MMSI             0\n",
       "Speed            0\n",
       "COG              0\n",
       "Destination      0\n",
       "Ship_type        1\n",
       "Gross_tonnage    0\n",
       "Length           0\n",
       "Breadth          0\n",
       "Origin           0\n",
       "dtype: int64"
      ]
     },
     "execution_count": 171,
     "metadata": {},
     "output_type": "execute_result"
    }
   ],
   "source": [
    "# Script here\n",
    "df.isnull().sum()"
   ]
  },
  {
   "cell_type": "markdown",
   "metadata": {
    "id": "hG1BqIOX3BPo"
   },
   "source": [
    "**b)** Check if there any duplicate data; any vessel in the dataframe several times?"
   ]
  },
  {
   "cell_type": "code",
   "execution_count": 172,
   "metadata": {
    "id": "srOWeAmf3BPp",
    "outputId": "44866753-1682-42dd-87cd-025a542f71c4"
   },
   "outputs": [
    {
     "data": {
      "text/plain": [
       "2"
      ]
     },
     "execution_count": 172,
     "metadata": {},
     "output_type": "execute_result"
    }
   ],
   "source": [
    "# Script here\n",
    "df.duplicated(['MMSI']).sum()"
   ]
  },
  {
   "cell_type": "markdown",
   "metadata": {
    "id": "YgDH1RGZ3BPp"
   },
   "source": [
    "**c)** Resolve missing data and remove duplicate data."
   ]
  },
  {
   "cell_type": "code",
   "execution_count": 173,
   "metadata": {
    "id": "rSSkA8no3BPp"
   },
   "outputs": [],
   "source": [
    "# Script here\n",
    "df.dropna(inplace=True)\n",
    "\n",
    "df.drop_duplicates(['MMSI'], inplace=True, ignore_index=True)"
   ]
  },
  {
   "cell_type": "markdown",
   "metadata": {},
   "source": [
    "**d)** Print out proof that there are no more missing or duplicate data"
   ]
  },
  {
   "cell_type": "code",
   "execution_count": 174,
   "metadata": {},
   "outputs": [
    {
     "data": {
      "text/plain": [
       "0"
      ]
     },
     "execution_count": 174,
     "metadata": {},
     "output_type": "execute_result"
    }
   ],
   "source": [
    "# Script here\n",
    "df.isnull().sum()\n",
    "\n",
    "df.duplicated(['MMSI']).sum()"
   ]
  },
  {
   "cell_type": "markdown",
   "metadata": {
    "id": "BgWFolgS3BPp"
   },
   "source": [
    "____________\n",
    "## <font color = Navy> 5. Descriptive statistics"
   ]
  },
  {
   "cell_type": "markdown",
   "metadata": {
    "id": "v6qxmG1m3BPp"
   },
   "source": [
    "####  a) Check data types and correct if needed\n",
    "\n",
    "Because Python does not require separate variable declaration, it is always a good practice to check the data types. Check the data types for the attributes and \n",
    "- convert MMSI to object or string if needed (e.g. to exclude from numeric comparison)\n",
    "- convert object or string typed numeric attributes to float."
   ]
  },
  {
   "cell_type": "code",
   "execution_count": 175,
   "metadata": {
    "id": "npcsVZQF3BPq"
   },
   "outputs": [
    {
     "name": "stdout",
     "output_type": "stream",
     "text": [
      "<class 'pandas.core.frame.DataFrame'>\n",
      "RangeIndex: 133 entries, 0 to 132\n",
      "Data columns (total 9 columns):\n",
      " #   Column         Non-Null Count  Dtype  \n",
      "---  ------         --------------  -----  \n",
      " 0   MMSI           133 non-null    object \n",
      " 1   Speed          133 non-null    float64\n",
      " 2   COG            133 non-null    float64\n",
      " 3   Destination    133 non-null    object \n",
      " 4   Ship_type      133 non-null    object \n",
      " 5   Gross_tonnage  133 non-null    float64\n",
      " 6   Length         133 non-null    float64\n",
      " 7   Breadth        133 non-null    float64\n",
      " 8   Origin         133 non-null    int64  \n",
      "dtypes: float64(5), int64(1), object(3)\n",
      "memory usage: 9.5+ KB\n"
     ]
    }
   ],
   "source": [
    "# Script here\n",
    "df['MMSI'] = df['MMSI'].astype(str)\n",
    "df['Gross_tonnage'] = df['Gross_tonnage'].astype('float64')\n",
    "df.info()"
   ]
  },
  {
   "cell_type": "markdown",
   "metadata": {
    "id": "HP7d0vXX3BPq"
   },
   "source": [
    "**b)** Print count, mean. Std, min, quartiles (25%, 50%, 75%) and max for all numeric attributes \n",
    "- *This can be done with one line - if your answer gets long consider changing your approach.*"
   ]
  },
  {
   "cell_type": "code",
   "execution_count": 176,
   "metadata": {
    "id": "npcsVZQF3BPq"
   },
   "outputs": [
    {
     "data": {
      "text/html": [
       "<div>\n",
       "<style scoped>\n",
       "    .dataframe tbody tr th:only-of-type {\n",
       "        vertical-align: middle;\n",
       "    }\n",
       "\n",
       "    .dataframe tbody tr th {\n",
       "        vertical-align: top;\n",
       "    }\n",
       "\n",
       "    .dataframe thead th {\n",
       "        text-align: right;\n",
       "    }\n",
       "</style>\n",
       "<table border=\"1\" class=\"dataframe\">\n",
       "  <thead>\n",
       "    <tr style=\"text-align: right;\">\n",
       "      <th></th>\n",
       "      <th>Speed</th>\n",
       "      <th>COG</th>\n",
       "      <th>Gross_tonnage</th>\n",
       "      <th>Length</th>\n",
       "      <th>Breadth</th>\n",
       "      <th>Origin</th>\n",
       "    </tr>\n",
       "  </thead>\n",
       "  <tbody>\n",
       "    <tr>\n",
       "      <th>count</th>\n",
       "      <td>133.000000</td>\n",
       "      <td>133.000000</td>\n",
       "      <td>133.00000</td>\n",
       "      <td>133.000000</td>\n",
       "      <td>133.000000</td>\n",
       "      <td>133.000000</td>\n",
       "    </tr>\n",
       "    <tr>\n",
       "      <th>mean</th>\n",
       "      <td>10.456415</td>\n",
       "      <td>78.298808</td>\n",
       "      <td>13599.62406</td>\n",
       "      <td>127.178571</td>\n",
       "      <td>20.212932</td>\n",
       "      <td>1.481203</td>\n",
       "    </tr>\n",
       "    <tr>\n",
       "      <th>std</th>\n",
       "      <td>1.962428</td>\n",
       "      <td>15.788205</td>\n",
       "      <td>18488.17812</td>\n",
       "      <td>57.793138</td>\n",
       "      <td>9.976906</td>\n",
       "      <td>0.501536</td>\n",
       "    </tr>\n",
       "    <tr>\n",
       "      <th>min</th>\n",
       "      <td>5.500000</td>\n",
       "      <td>53.326400</td>\n",
       "      <td>100.00000</td>\n",
       "      <td>15.000000</td>\n",
       "      <td>5.000000</td>\n",
       "      <td>1.000000</td>\n",
       "    </tr>\n",
       "    <tr>\n",
       "      <th>25%</th>\n",
       "      <td>8.948700</td>\n",
       "      <td>70.970800</td>\n",
       "      <td>2548.00000</td>\n",
       "      <td>88.900000</td>\n",
       "      <td>12.900000</td>\n",
       "      <td>1.000000</td>\n",
       "    </tr>\n",
       "    <tr>\n",
       "      <th>50%</th>\n",
       "      <td>10.300000</td>\n",
       "      <td>74.900000</td>\n",
       "      <td>5440.00000</td>\n",
       "      <td>115.000000</td>\n",
       "      <td>16.900000</td>\n",
       "      <td>1.000000</td>\n",
       "    </tr>\n",
       "    <tr>\n",
       "      <th>75%</th>\n",
       "      <td>11.712600</td>\n",
       "      <td>81.349200</td>\n",
       "      <td>15633.00000</td>\n",
       "      <td>159.970000</td>\n",
       "      <td>25.240000</td>\n",
       "      <td>2.000000</td>\n",
       "    </tr>\n",
       "    <tr>\n",
       "      <th>max</th>\n",
       "      <td>17.082500</td>\n",
       "      <td>157.267300</td>\n",
       "      <td>81502.00000</td>\n",
       "      <td>274.000000</td>\n",
       "      <td>48.040000</td>\n",
       "      <td>2.000000</td>\n",
       "    </tr>\n",
       "  </tbody>\n",
       "</table>\n",
       "</div>"
      ],
      "text/plain": [
       "            Speed         COG  Gross_tonnage      Length     Breadth  \\\n",
       "count  133.000000  133.000000      133.00000  133.000000  133.000000   \n",
       "mean    10.456415   78.298808    13599.62406  127.178571   20.212932   \n",
       "std      1.962428   15.788205    18488.17812   57.793138    9.976906   \n",
       "min      5.500000   53.326400      100.00000   15.000000    5.000000   \n",
       "25%      8.948700   70.970800     2548.00000   88.900000   12.900000   \n",
       "50%     10.300000   74.900000     5440.00000  115.000000   16.900000   \n",
       "75%     11.712600   81.349200    15633.00000  159.970000   25.240000   \n",
       "max     17.082500  157.267300    81502.00000  274.000000   48.040000   \n",
       "\n",
       "           Origin  \n",
       "count  133.000000  \n",
       "mean     1.481203  \n",
       "std      0.501536  \n",
       "min      1.000000  \n",
       "25%      1.000000  \n",
       "50%      1.000000  \n",
       "75%      2.000000  \n",
       "max      2.000000  "
      ]
     },
     "execution_count": 176,
     "metadata": {},
     "output_type": "execute_result"
    }
   ],
   "source": [
    "# Script here\n",
    "df.describe()"
   ]
  },
  {
   "cell_type": "markdown",
   "metadata": {},
   "source": [
    "**b)** Print count, mean. Std, min, quartiles (25%, 50%, 75%) and max for all numeric attributes. Check the values. Does the comparison make sense here, taken also the meaning of each attribute (i.e. understand your data)?"
   ]
  },
  {
   "cell_type": "code",
   "execution_count": 177,
   "metadata": {
    "id": "Kzh8DvSl3BPq",
    "outputId": "581dfeee-085f-4888-b82a-849a50348e96"
   },
   "outputs": [
    {
     "data": {
      "text/html": [
       "<div>\n",
       "<style scoped>\n",
       "    .dataframe tbody tr th:only-of-type {\n",
       "        vertical-align: middle;\n",
       "    }\n",
       "\n",
       "    .dataframe tbody tr th {\n",
       "        vertical-align: top;\n",
       "    }\n",
       "\n",
       "    .dataframe thead th {\n",
       "        text-align: right;\n",
       "    }\n",
       "</style>\n",
       "<table border=\"1\" class=\"dataframe\">\n",
       "  <thead>\n",
       "    <tr style=\"text-align: right;\">\n",
       "      <th></th>\n",
       "      <th>Speed</th>\n",
       "      <th>COG</th>\n",
       "      <th>Gross_tonnage</th>\n",
       "      <th>Length</th>\n",
       "      <th>Breadth</th>\n",
       "      <th>Origin</th>\n",
       "    </tr>\n",
       "  </thead>\n",
       "  <tbody>\n",
       "    <tr>\n",
       "      <th>count</th>\n",
       "      <td>133.000000</td>\n",
       "      <td>133.000000</td>\n",
       "      <td>133.00000</td>\n",
       "      <td>133.000000</td>\n",
       "      <td>133.000000</td>\n",
       "      <td>133.000000</td>\n",
       "    </tr>\n",
       "    <tr>\n",
       "      <th>mean</th>\n",
       "      <td>10.456415</td>\n",
       "      <td>78.298808</td>\n",
       "      <td>13599.62406</td>\n",
       "      <td>127.178571</td>\n",
       "      <td>20.212932</td>\n",
       "      <td>1.481203</td>\n",
       "    </tr>\n",
       "    <tr>\n",
       "      <th>std</th>\n",
       "      <td>1.962428</td>\n",
       "      <td>15.788205</td>\n",
       "      <td>18488.17812</td>\n",
       "      <td>57.793138</td>\n",
       "      <td>9.976906</td>\n",
       "      <td>0.501536</td>\n",
       "    </tr>\n",
       "    <tr>\n",
       "      <th>min</th>\n",
       "      <td>5.500000</td>\n",
       "      <td>53.326400</td>\n",
       "      <td>100.00000</td>\n",
       "      <td>15.000000</td>\n",
       "      <td>5.000000</td>\n",
       "      <td>1.000000</td>\n",
       "    </tr>\n",
       "    <tr>\n",
       "      <th>25%</th>\n",
       "      <td>8.948700</td>\n",
       "      <td>70.970800</td>\n",
       "      <td>2548.00000</td>\n",
       "      <td>88.900000</td>\n",
       "      <td>12.900000</td>\n",
       "      <td>1.000000</td>\n",
       "    </tr>\n",
       "    <tr>\n",
       "      <th>50%</th>\n",
       "      <td>10.300000</td>\n",
       "      <td>74.900000</td>\n",
       "      <td>5440.00000</td>\n",
       "      <td>115.000000</td>\n",
       "      <td>16.900000</td>\n",
       "      <td>1.000000</td>\n",
       "    </tr>\n",
       "    <tr>\n",
       "      <th>75%</th>\n",
       "      <td>11.712600</td>\n",
       "      <td>81.349200</td>\n",
       "      <td>15633.00000</td>\n",
       "      <td>159.970000</td>\n",
       "      <td>25.240000</td>\n",
       "      <td>2.000000</td>\n",
       "    </tr>\n",
       "    <tr>\n",
       "      <th>max</th>\n",
       "      <td>17.082500</td>\n",
       "      <td>157.267300</td>\n",
       "      <td>81502.00000</td>\n",
       "      <td>274.000000</td>\n",
       "      <td>48.040000</td>\n",
       "      <td>2.000000</td>\n",
       "    </tr>\n",
       "  </tbody>\n",
       "</table>\n",
       "</div>"
      ],
      "text/plain": [
       "            Speed         COG  Gross_tonnage      Length     Breadth  \\\n",
       "count  133.000000  133.000000      133.00000  133.000000  133.000000   \n",
       "mean    10.456415   78.298808    13599.62406  127.178571   20.212932   \n",
       "std      1.962428   15.788205    18488.17812   57.793138    9.976906   \n",
       "min      5.500000   53.326400      100.00000   15.000000    5.000000   \n",
       "25%      8.948700   70.970800     2548.00000   88.900000   12.900000   \n",
       "50%     10.300000   74.900000     5440.00000  115.000000   16.900000   \n",
       "75%     11.712600   81.349200    15633.00000  159.970000   25.240000   \n",
       "max     17.082500  157.267300    81502.00000  274.000000   48.040000   \n",
       "\n",
       "           Origin  \n",
       "count  133.000000  \n",
       "mean     1.481203  \n",
       "std      0.501536  \n",
       "min      1.000000  \n",
       "25%      1.000000  \n",
       "50%      1.000000  \n",
       "75%      2.000000  \n",
       "max      2.000000  "
      ]
     },
     "execution_count": 177,
     "metadata": {},
     "output_type": "execute_result"
    }
   ],
   "source": [
    "# Script here\n",
    "df.describe()"
   ]
  },
  {
   "cell_type": "markdown",
   "metadata": {},
   "source": [
    "It makes sense to get means and standard deviations and every other value from speed, gross tonnage, length and breadth. It doesn't make sense to get these values from COG nor from Origin.\n"
   ]
  },
  {
   "cell_type": "markdown",
   "metadata": {
    "id": "a50xiyZT3BPq"
   },
   "source": [
    "**c)** Choose Breadth and two (2) other numeric attributes that you would like to focus and know more. Print descriptive statistics only for these **but leave out everything else except mean, std and max**. \n",
    "\n",
    "- *Tip: check the type of the output of the function you used in the last step. What is the type and how could you subset it? What did you learn about pandas indexing in the first exercise?*"
   ]
  },
  {
   "cell_type": "code",
   "execution_count": 178,
   "metadata": {
    "id": "QsXlUz073BPq",
    "outputId": "29103aa0-86e1-4380-ab1d-f77c0184e7c5",
    "scrolled": true
   },
   "outputs": [
    {
     "name": "stdout",
     "output_type": "stream",
     "text": [
      "        Breadth      Length  Gross_tonnage\n",
      "mean  20.212932  127.178571    13599.62406\n",
      "std    9.976906   57.793138    18488.17812\n",
      "max   48.040000  274.000000    81502.00000\n"
     ]
    }
   ],
   "source": [
    "# Script here\n",
    "df_desc = df.describe()[['Breadth','Length', 'Gross_tonnage']]\n",
    "df_desc.drop(['count', 'min', '25%', '50%', '75%'], inplace=True)\n",
    "print(df_desc)"
   ]
  },
  {
   "cell_type": "markdown",
   "metadata": {
    "id": "0TQCYq-z3BPr"
   },
   "source": [
    " **d)** Descriptive statistics by Ship_type <br>\n",
    "- Print the descriptive statistics now by each ship type for those three attributes used in the previous task.<br> \n",
    "\"by\" here means that you group by that variable.\n",
    "- *Tip! A wide Pandas table can be easily rotated using transpose, for better readability in the jupyter notebook.*<br>"
   ]
  },
  {
   "cell_type": "code",
   "execution_count": 179,
   "metadata": {
    "id": "4l8f-3i_3BPr",
    "outputId": "92b4996d-86f7-46cd-c6a6-b02c9dad43fc",
    "scrolled": true
   },
   "outputs": [
    {
     "name": "stdout",
     "output_type": "stream",
     "text": [
      "Ship_type                   Cargo        Tanker         Tug\n",
      "Breadth       count     67.000000     57.000000    9.000000\n",
      "              mean      16.841493     26.023509    8.511111\n",
      "              std        5.984697     11.045589    1.749603\n",
      "              min       10.500000      8.100000    5.000000\n",
      "              25%       12.500000     16.900000    7.500000\n",
      "              50%       14.400000     22.200000    9.000000\n",
      "              75%       18.750000     32.200000    9.800000\n",
      "              max       32.310000     48.040000   10.500000\n",
      "Length        count     67.000000     57.000000    9.000000\n",
      "              mean     111.993582    160.599649   28.555556\n",
      "              std       37.235145     57.076156    6.070031\n",
      "              min       64.200000     46.900000   15.000000\n",
      "              25%       87.870000    117.800000   26.800000\n",
      "              50%      100.000000    144.100000   31.000000\n",
      "              75%      123.750000    195.000000   32.900000\n",
      "              max      229.040000    274.000000   33.300000\n",
      "Gross_tonnage count     67.000000     57.000000    9.000000\n",
      "              mean    7216.179104  23213.929825  230.222222\n",
      "              std     9346.956372  23047.109049   98.255760\n",
      "              min      852.000000   1825.000000  100.000000\n",
      "              25%     2348.500000   5452.000000  139.000000\n",
      "              50%     3259.000000  11935.000000  256.000000\n",
      "              75%     6782.500000  30641.000000  298.000000\n",
      "              max    45223.000000  81502.000000  366.000000\n"
     ]
    }
   ],
   "source": [
    "# Script here\n",
    "print(df.groupby(['Ship_type']).describe()[['Breadth','Length', 'Gross_tonnage']].transpose())"
   ]
  },
  {
   "cell_type": "markdown",
   "metadata": {},
   "source": [
    "**e)** How many ship types there are? Which Ship type has the largest breadth?"
   ]
  },
  {
   "cell_type": "markdown",
   "metadata": {},
   "source": [
    "Three ship types. Tankers have the largest average breadth."
   ]
  },
  {
   "cell_type": "markdown",
   "metadata": {},
   "source": [
    "_______________\n",
    "## <font color = forestgreen> 6. Visualizations </font>"
   ]
  },
  {
   "cell_type": "markdown",
   "metadata": {},
   "source": [
    "### A few more words on matplotlib and seaborn\n",
    "\n",
    "As you saw in the first exercise, matplotlib plotting is structured with the 'axes' and 'figure' objects. The meaning and the names of these can be somewhat confusing so here is a small example and explanation of them to avoid confusion in the future. This small explanation tries to help you avoid common mistakes and frustration. \n",
    "    \n",
    "- The **<font color = dimgrey> figure </font>** object contains all plotting elements, in other words everything we see. You can think of it as a canvas where things are drawn. \n",
    "- A figure can have many **<font color = blue> axes </font>**. They are the objects you plot on to. The axes can even overlap and their position is defined relative to the figure. \n",
    "    \n",
    "####  Seaborn and matplotlib\n",
    "- Seaborn goes together with matplotlib, and can be thought to be an extension of it, but there are some things that can confuse you along the way if their relationship is presented like this. One tip in particular that one might have problems with is that in seaborn there are figure-level, axes-level plots. Figure level plots dont work with a matplotlib subplot and are used so that only one plot is made per figure. Axes level plots can be put into subplots like matplotlib plots as you saw in the first exercise. \n",
    "    \n",
    "    \n",
    "     \n",
    "- Below is an example that illustrates how **<font color = dimgrey> figures </font>**and **<font color = blue> axes </font>** work together in matplotlib. The comments explain what is done in every row of code. <font color = green> You are encouraged to play around with it, but its not required in terms of the exercise\" </font>. You can for example try to make a similar plot-inside-plot with the exercise data.\n",
    "    "
   ]
  },
  {
   "cell_type": "code",
   "execution_count": 180,
   "metadata": {},
   "outputs": [],
   "source": [
    "#Lets make some example data.\n",
    "x_example_data = np.linspace(0,5,10)\n",
    "y_example_data = x_example_data**2"
   ]
  },
  {
   "cell_type": "code",
   "execution_count": 181,
   "metadata": {},
   "outputs": [
    {
     "data": {
      "text/plain": [
       "Text(3, 5, 'This is a text object relative to the inner axes')"
      ]
     },
     "execution_count": 181,
     "metadata": {},
     "output_type": "execute_result"
    },
    {
     "data": {
      "image/png": "[encoded data removed]",
      "text/plain": [
       "<Figure size 800x800 with 2 Axes>"
      ]
     },
     "metadata": {
      "needs_background": "light"
     },
     "output_type": "display_data"
    }
   ],
   "source": [
    "### Make the figure and axes objects ###\n",
    "example_figure = plt.figure(figsize =(8,8), dpi = 100) #you give the size of the figure as a tuple of inches\n",
    "example_axes_outer = example_figure.add_axes([0.1, 0.1, 0.9, 0.9]) #The list argument gives the relative location of the axes in percentage from the corners of the figure. The order is left, bottom, right, top. \n",
    "example_axes_outer.set_xlabel(\"This is how you set an x-axis label to an axes\")\n",
    "example_axes_outer.set_ylabel(\"The y-label of an axes is set like this\")\n",
    "example_axes_outer.set_title(\"We learned how to give an axes a title!\")\n",
    "example_axes_inner = example_figure.add_axes([0.45, 0.45, 0.4, 0.3])\n",
    "example_axes_inner.set_title(\"This axes has a title too\")\n",
    "\n",
    "### Add something to the axes ###\n",
    "example_axes_inner.plot(x_example_data, y_example_data)\n",
    "\n",
    "# Multiple things, like lines can be plotted on same axis. \n",
    "example_axes_outer.plot(x_example_data**4, y_example_data**2)\n",
    "example_axes_outer.plot(x_example_data**7, y_example_data**2)\n",
    "\n",
    "# If you want to add other objects, you add them to axes too, like text\n",
    "# Now you specify the location relative to the parent axes\n",
    "example_axes_inner.text(3, 5, \"This is a text object relative to the inner axes\")\n",
    "\n",
    "#Many more things can be added to axes in a similar way, not just text. \n",
    "#For more information there are many good tutorials available for example in youtube. "
   ]
  },
  {
   "cell_type": "markdown",
   "metadata": {
    "id": "IetKacst3BPr"
   },
   "source": [
    "_________\n",
    "## <font color = Green> 7. Visualizing attribute value distributions </font>\n",
    "**a)** Plot four histrograms of the Breadth using the Sturges', Scott's, square root and Freedman-Diaconis' methods to determine the number of bins. How are the numbers of bins calculated? Compare the distributions of different ship types. Do you think this a feasible attribute for classification, why? "
   ]
  },
  {
   "cell_type": "markdown",
   "metadata": {},
   "source": [
    "- Tip: it would be nice to use subplots when you have more than one plot. "
   ]
  },
  {
   "cell_type": "code",
   "execution_count": 182,
   "metadata": {
    "id": "V5FPrEaL3BPr",
    "outputId": "04592c55-3176-4ebb-d17d-5136c3d2ef07"
   },
   "outputs": [
    {
     "data": {
      "text/plain": [
       "Text(0.5, 1.0, 'Breadths of tugboats with square root method')"
      ]
     },
     "execution_count": 182,
     "metadata": {},
     "output_type": "execute_result"
    },
    {
     "data": {
      "image/png": "[encoded data removed]",
      "text/plain": [
       "<Figure size 432x288 with 1 Axes>"
      ]
     },
     "metadata": {
      "needs_background": "light"
     },
     "output_type": "display_data"
    },
    {
     "data": {
      "image/png": "[encoded data removed]",
      "text/plain": [
       "<Figure size 432x288 with 1 Axes>"
      ]
     },
     "metadata": {
      "needs_background": "light"
     },
     "output_type": "display_data"
    },
    {
     "data": {
      "image/png": "[encoded data removed]",
      "text/plain": [
       "<Figure size 432x288 with 1 Axes>"
      ]
     },
     "metadata": {
      "needs_background": "light"
     },
     "output_type": "display_data"
    },
    {
     "data": {
      "image/png": "[encoded data removed]",
      "text/plain": [
       "<Figure size 432x288 with 1 Axes>"
      ]
     },
     "metadata": {
      "needs_background": "light"
     },
     "output_type": "display_data"
    },
    {
     "data": {
      "image/png": "[encoded data removed]",
      "text/plain": [
       "<Figure size 432x288 with 1 Axes>"
      ]
     },
     "metadata": {
      "needs_background": "light"
     },
     "output_type": "display_data"
    },
    {
     "data": {
      "image/png": "[encoded data removed]",
      "text/plain": [
       "<Figure size 432x288 with 1 Axes>"
      ]
     },
     "metadata": {
      "needs_background": "light"
     },
     "output_type": "display_data"
    },
    {
     "data": {
      "image/png": "[encoded data removed]",
      "text/plain": [
       "<Figure size 432x288 with 1 Axes>"
      ]
     },
     "metadata": {
      "needs_background": "light"
     },
     "output_type": "display_data"
    }
   ],
   "source": [
    "# Script here\n",
    "df.hist(['Breadth'], bins='sturges')\n",
    "plt.title(\"Sturges' method\")\n",
    "\n",
    "df.hist(['Breadth'], bins='scott')\n",
    "plt.title(\"Scott's method\")\n",
    "\n",
    "df.hist(['Breadth'], bins='sqrt')\n",
    "plt.title(\"Square root method\")\n",
    "\n",
    "df.hist(['Breadth'], bins='fd')\n",
    "plt.title(\"Freedman-Diaconis' method\")\n",
    "\n",
    "df_cargo = df[df.Ship_type == 'Cargo']\n",
    "df_tanker = df[df.Ship_type == 'Tanker']\n",
    "df_tug = df[df.Ship_type == 'Tug']\n",
    "\n",
    "df_cargo.hist(['Breadth'], bins='sqrt')\n",
    "plt.title(\"Breadths of cargo ships with square root method\")\n",
    "\n",
    "df_tanker.hist(['Breadth'], bins='sqrt')\n",
    "plt.title(\"Breadths of tankers with square root method\")\n",
    "\n",
    "df_tug.hist(['Breadth'], bins='sqrt')\n",
    "plt.title(\"Breadths of tugboats with square root method\")\n",
    "\n"
   ]
  },
  {
   "cell_type": "markdown",
   "metadata": {},
   "source": [
    "Bins are groups of data points with the same value, and histograms display numerical data by using bins. There are multiple methods for calculating the optimal amount of bins and optimal bin width used to reveal hidden meaning in data for analysis, and to filter unnecessary noise in numerical data.\n",
    "\n",
    "Sturges' method: optimal bins k = ceiling(log2(n) + 1), where n is sample size\n",
    "\n",
    "Scott's method: optimal bin width h = (3.5*s) / (n^(1/3)), where s is std\n",
    "\n",
    "Square root method: k = sqrt(n)\n",
    "\n",
    "Freedman-Diaconis' method: h = 2*((IQR) / (n^(1/3))), where IQR is the interquartile range"
   ]
  },
  {
   "cell_type": "markdown",
   "metadata": {},
   "source": [
    "**b)** Compare the distributions of the Breath variable between different ship types. Do you think this a feasible attribute for classification, why?\n",
    "- *Tip What kind of plot can you do on a continuous variable? You only need to produce one plot, not multiple.*"
   ]
  },
  {
   "cell_type": "code",
   "execution_count": 183,
   "metadata": {
    "id": "Fan5XYdm3BPs",
    "outputId": "ba1b1da8-8b7c-4ab9-a791-c70beb4aa98e"
   },
   "outputs": [],
   "source": [
    "# Script here\n"
   ]
  },
  {
   "cell_type": "markdown",
   "metadata": {},
   "source": []
  },
  {
   "cell_type": "markdown",
   "metadata": {
    "id": "4MrPLsmk3BPs"
   },
   "source": [
    "**c)**\tExplain what a boxplot is. Plot them for the numeric attributes (excluding 'Origin') grouped by the ship type. Do you see outliers that require some action?"
   ]
  },
  {
   "cell_type": "code",
   "execution_count": 184,
   "metadata": {
    "id": "ZjNifEM33BPs",
    "outputId": "4ea4f6cd-e9c8-4071-d3f0-5ef80419abb0"
   },
   "outputs": [
    {
     "data": {
      "image/png": "[encoded data removed]",
      "text/plain": [
       "<Figure size 432x288 with 1 Axes>"
      ]
     },
     "metadata": {
      "needs_background": "light"
     },
     "output_type": "display_data"
    },
    {
     "data": {
      "image/png": "[encoded data removed]",
      "text/plain": [
       "<Figure size 432x288 with 1 Axes>"
      ]
     },
     "metadata": {
      "needs_background": "light"
     },
     "output_type": "display_data"
    },
    {
     "data": {
      "image/png": "[encoded data removed]",
      "text/plain": [
       "<Figure size 432x288 with 1 Axes>"
      ]
     },
     "metadata": {
      "needs_background": "light"
     },
     "output_type": "display_data"
    },
    {
     "data": {
      "image/png": "[encoded data removed]",
      "text/plain": [
       "<Figure size 432x288 with 1 Axes>"
      ]
     },
     "metadata": {
      "needs_background": "light"
     },
     "output_type": "display_data"
    },
    {
     "data": {
      "image/png": "[encoded data removed]",
      "text/plain": [
       "<Figure size 432x288 with 1 Axes>"
      ]
     },
     "metadata": {
      "needs_background": "light"
     },
     "output_type": "display_data"
    },
    {
     "data": {
      "image/png": "[encoded data removed]",
      "text/plain": [
       "<Figure size 432x288 with 1 Axes>"
      ]
     },
     "metadata": {
      "needs_background": "light"
     },
     "output_type": "display_data"
    },
    {
     "data": {
      "image/png": "[encoded data removed]",
      "text/plain": [
       "<Figure size 432x288 with 1 Axes>"
      ]
     },
     "metadata": {
      "needs_background": "light"
     },
     "output_type": "display_data"
    },
    {
     "data": {
      "text/plain": [
       "<Figure size 432x288 with 0 Axes>"
      ]
     },
     "metadata": {},
     "output_type": "display_data"
    }
   ],
   "source": [
    "# Script here\n",
    "\n",
    "plt.figure()\n",
    "\n",
    "df.boxplot(column=['Speed'])\n",
    "plt.title(\"Speed\")\n",
    "plt.show()\n",
    "plt.clf()\n",
    "\n",
    "df.boxplot(column=['Gross_tonnage'])\n",
    "plt.title(\"Gross tonnage\")\n",
    "plt.show()\n",
    "plt.clf()\n",
    "\n",
    "df.boxplot(column=['Length'])\n",
    "plt.title(\"Length\")\n",
    "plt.show()\n",
    "plt.clf()\n",
    "\n",
    "df.boxplot(column=['Breadth'])\n",
    "plt.title(\"Breadth\")\n",
    "plt.show()\n",
    "plt.clf()\n",
    "\n",
    "df_cargo.boxplot(column=['Speed', 'Gross_tonnage', 'Length', 'Breadth'])\n",
    "plt.title(\"Cargo ships\")\n",
    "plt.show()\n",
    "plt.clf()\n",
    "\n",
    "df_tanker.boxplot(column=['Speed', 'Gross_tonnage', 'Length', 'Breadth'])\n",
    "plt.title(\"Tankers\")\n",
    "plt.show()\n",
    "plt.clf()\n",
    "\n",
    "df_tug.boxplot(column=['Speed', 'Gross_tonnage', 'Length', 'Breadth'])\n",
    "plt.title(\"Tugboats\")\n",
    "plt.show()\n",
    "plt.clf()"
   ]
  },
  {
   "cell_type": "markdown",
   "metadata": {},
   "source": [
    "A boxplot is a plot that gives a view on the distribution of the data over quartiles. Median is shown as a black line, the 25% and 75% quartiles in a box and then the previously mentioned interquartile range range (IQR = 1.5 * (75% - 25% quartiles)). IQR is represented as lines on top of and under the box. Any data points that don't fit are considered outliers and marked as dots on the plot.\n",
    "\n",
    "From these boxplots the Origin attribute has been excluded, but also the COG attribute, since as a numerical attribute it really doesn't reveal anything about our ships.\n",
    "\n",
    "A lot of outliers can be found on gross tonnage especially when only looking at cargo ships. A few can also be found in speed, length and breadth, but only few. However, no outlier is so far from the box that no data cleaning action is required in my opinion.\n",
    "\n",
    "Box plotting all attributes for any ship type whilst having gross tonnage included makes the plot hard to analyze due to sheer scale of the gross tonnage attribute values.\n"
   ]
  },
  {
   "cell_type": "markdown",
   "metadata": {
    "id": "SgZ6p-4T3BPs"
   },
   "source": [
    "##  <font color = purple> 8. Relationships between attributes"
   ]
  },
  {
   "cell_type": "markdown",
   "metadata": {
    "id": "PAT2A9VK3BPt"
   },
   "source": [
    "#### a) Plot pairwise scatter plots of the numerical attributes. What kind of relationships can you see? Can you see any outliers? \n",
    "- *this can be done in one line*"
   ]
  },
  {
   "cell_type": "code",
   "execution_count": 185,
   "metadata": {
    "id": "sA5MkDy23BPt",
    "outputId": "945b4b1e-3ec0-4419-d3ae-b8a06610f088",
    "scrolled": false
   },
   "outputs": [
    {
     "data": {
      "text/plain": [
       "<seaborn.axisgrid.PairGrid at 0x1c5bb7de700>"
      ]
     },
     "execution_count": 185,
     "metadata": {},
     "output_type": "execute_result"
    },
    {
     "data": {
      "image/png": "[encoded data removed]",
      "text/plain": [
       "<Figure size 720x720 with 20 Axes>"
      ]
     },
     "metadata": {
      "needs_background": "light"
     },
     "output_type": "display_data"
    }
   ],
   "source": [
    "# Script here\n",
    "df_new = df.drop(['COG', 'Origin'], axis=1)\n",
    "sns.pairplot(df_new)"
   ]
  },
  {
   "cell_type": "markdown",
   "metadata": {},
   "source": [
    "Attributes that clearly indicate the size of the ship have obvious connections. These are gross tonnage + length, gross tonnage + breadth and length + breadth.\n",
    "\n",
    "One possible outlier can be found in the cross tonnage + breadth graphs."
   ]
  },
  {
   "cell_type": "markdown",
   "metadata": {
    "id": "D67o5rcY3BPt"
   },
   "source": [
    "**b)** Make a new clean dataframe without outlier(s) and replot. What difference do you see? \n",
    "- *include the most relevant attributes only, or limit to those needed in next task*"
   ]
  },
  {
   "cell_type": "code",
   "execution_count": 186,
   "metadata": {
    "id": "dOq4Unkw3BPt",
    "outputId": "21628bb7-371e-466a-8f57-78dcad89ad16"
   },
   "outputs": [
    {
     "data": {
      "text/plain": [
       "<seaborn.axisgrid.PairGrid at 0x1c5bf658f40>"
      ]
     },
     "execution_count": 186,
     "metadata": {},
     "output_type": "execute_result"
    },
    {
     "data": {
      "image/png": "[encoded data removed]",
      "text/plain": [
       "<Figure size 720x720 with 20 Axes>"
      ]
     },
     "metadata": {
      "needs_background": "light"
     },
     "output_type": "display_data"
    }
   ],
   "source": [
    "# Script here\n",
    "df_filtered = df_new.drop(df_new[(df_new['Gross_tonnage'] > 20000) & (df_new['Breadth'] < 10)].index)\n",
    "sns.pairplot(df_filtered)"
   ]
  },
  {
   "cell_type": "markdown",
   "metadata": {},
   "source": [
    "I don't think any data should be removed from the set so I'm using a temporary dataframe with the tag filtered to demonstrate this exercise. I don't have enough knowledge about ships to determine whether these outliers are actual real ships.Therefore it would be unwise to exclude them from the data frame, since if they are real ships, they represent real life data.\n",
    "\n",
    "There doesn't seem to be any mistakes in the data set(s) used."
   ]
  },
  {
   "cell_type": "markdown",
   "metadata": {
    "id": "JSTWEkRq3BPt"
   },
   "source": [
    "__________\n",
    "## <font color = purple> 9. Correlation and heatmap </font>"
   ]
  },
  {
   "cell_type": "markdown",
   "metadata": {
    "id": "2MJ3xq4m3BPt"
   },
   "source": [
    "**a)** Explain what are\n",
    "- Pearson's correlation\n",
    "- Spearman's rho and \n",
    "- Kendall's tau?"
   ]
  },
  {
   "cell_type": "markdown",
   "metadata": {},
   "source": [
    "A covariance matrix is calculated from the different features of the data. For example, now that we have four numerical attributes in out dataframe, the correlation matrix M is 4x4. All diagonal elements are 1, since the correlation between two same sets is one.\n",
    "\n",
    "Pearsons's correlation is the covariance divided by the product of the standard deviations sx sy. This normalizes the values between -1 and 1. Pearson's correlation matrix values tells us, how close of a linear relationship there is two data sets.\n",
    "\n",
    "Spearman's rho (p) is defined as \n",
    "p = 1 - (6*sum r(xi)-r(yi) from i = 0 to n) /  (n(n^2-1))\n",
    "The r(xi) is the rank of value xi when we sort the list in increasing order\n",
    "(x1, ... , xn)\n",
    "This measures the relations between the ordering of the values and thus doesn't only measure linearly.\n",
    "\n",
    "Kendall's tau is defined as\n",
    "T = (C-D) / (0.5n(n-1))\n",
    "where C is the number of concordant pairs (xi < xj then yi < yj)\n",
    "and D is the number of discordant pairs (if xiyj)\n",
    "(0.5n(n-1)) is the total number of pairs and thus the Kendall's tau gives us the \"fraction\" of pairs that are concordant. \n",
    "Unlike in the the other two, only the absolute value of tau matters,\n",
    "i.e. -1 != unrelated lists.\n",
    "They are related but in a way that the relation would be perfect if we just reversed the other list.\n"
   ]
  },
  {
   "cell_type": "markdown",
   "metadata": {},
   "source": [
    "**b)** Calculate the correlation coefficient matrices. What kind of relationships there are between the attributes? You can use a heatmap to visualize the matrices and more easily see the strength of the relationship. **See what kind of a difference there is between the cleaned dataset and the non-cleaned dataset.**"
   ]
  },
  {
   "cell_type": "code",
   "execution_count": 187,
   "metadata": {},
   "outputs": [
    {
     "name": "stdout",
     "output_type": "stream",
     "text": [
      "Pearson's correlation:\n"
     ]
    },
    {
     "data": {
      "text/html": [
       "<div>\n",
       "<style scoped>\n",
       "    .dataframe tbody tr th:only-of-type {\n",
       "        vertical-align: middle;\n",
       "    }\n",
       "\n",
       "    .dataframe tbody tr th {\n",
       "        vertical-align: top;\n",
       "    }\n",
       "\n",
       "    .dataframe thead th {\n",
       "        text-align: right;\n",
       "    }\n",
       "</style>\n",
       "<table border=\"1\" class=\"dataframe\">\n",
       "  <thead>\n",
       "    <tr style=\"text-align: right;\">\n",
       "      <th></th>\n",
       "      <th>Speed</th>\n",
       "      <th>Gross_tonnage</th>\n",
       "      <th>Length</th>\n",
       "      <th>Breadth</th>\n",
       "    </tr>\n",
       "  </thead>\n",
       "  <tbody>\n",
       "    <tr>\n",
       "      <th>Speed</th>\n",
       "      <td>1.000000</td>\n",
       "      <td>0.198906</td>\n",
       "      <td>0.308908</td>\n",
       "      <td>0.297894</td>\n",
       "    </tr>\n",
       "    <tr>\n",
       "      <th>Gross_tonnage</th>\n",
       "      <td>0.198906</td>\n",
       "      <td>1.000000</td>\n",
       "      <td>0.892320</td>\n",
       "      <td>0.937849</td>\n",
       "    </tr>\n",
       "    <tr>\n",
       "      <th>Length</th>\n",
       "      <td>0.308908</td>\n",
       "      <td>0.892320</td>\n",
       "      <td>1.000000</td>\n",
       "      <td>0.964356</td>\n",
       "    </tr>\n",
       "    <tr>\n",
       "      <th>Breadth</th>\n",
       "      <td>0.297894</td>\n",
       "      <td>0.937849</td>\n",
       "      <td>0.964356</td>\n",
       "      <td>1.000000</td>\n",
       "    </tr>\n",
       "  </tbody>\n",
       "</table>\n",
       "</div>"
      ],
      "text/plain": [
       "                  Speed  Gross_tonnage    Length   Breadth\n",
       "Speed          1.000000       0.198906  0.308908  0.297894\n",
       "Gross_tonnage  0.198906       1.000000  0.892320  0.937849\n",
       "Length         0.308908       0.892320  1.000000  0.964356\n",
       "Breadth        0.297894       0.937849  0.964356  1.000000"
      ]
     },
     "metadata": {},
     "output_type": "display_data"
    },
    {
     "name": "stdout",
     "output_type": "stream",
     "text": [
      "Pearson's correlation for the cleaned dataset:\n"
     ]
    },
    {
     "data": {
      "text/html": [
       "<div>\n",
       "<style scoped>\n",
       "    .dataframe tbody tr th:only-of-type {\n",
       "        vertical-align: middle;\n",
       "    }\n",
       "\n",
       "    .dataframe tbody tr th {\n",
       "        vertical-align: top;\n",
       "    }\n",
       "\n",
       "    .dataframe thead th {\n",
       "        text-align: right;\n",
       "    }\n",
       "</style>\n",
       "<table border=\"1\" class=\"dataframe\">\n",
       "  <thead>\n",
       "    <tr style=\"text-align: right;\">\n",
       "      <th></th>\n",
       "      <th>Speed</th>\n",
       "      <th>Gross_tonnage</th>\n",
       "      <th>Length</th>\n",
       "      <th>Breadth</th>\n",
       "    </tr>\n",
       "  </thead>\n",
       "  <tbody>\n",
       "    <tr>\n",
       "      <th>Speed</th>\n",
       "      <td>1.000000</td>\n",
       "      <td>0.202624</td>\n",
       "      <td>0.306770</td>\n",
       "      <td>0.295732</td>\n",
       "    </tr>\n",
       "    <tr>\n",
       "      <th>Gross_tonnage</th>\n",
       "      <td>0.202624</td>\n",
       "      <td>1.000000</td>\n",
       "      <td>0.911205</td>\n",
       "      <td>0.954331</td>\n",
       "    </tr>\n",
       "    <tr>\n",
       "      <th>Length</th>\n",
       "      <td>0.306770</td>\n",
       "      <td>0.911205</td>\n",
       "      <td>1.000000</td>\n",
       "      <td>0.964007</td>\n",
       "    </tr>\n",
       "    <tr>\n",
       "      <th>Breadth</th>\n",
       "      <td>0.295732</td>\n",
       "      <td>0.954331</td>\n",
       "      <td>0.964007</td>\n",
       "      <td>1.000000</td>\n",
       "    </tr>\n",
       "  </tbody>\n",
       "</table>\n",
       "</div>"
      ],
      "text/plain": [
       "                  Speed  Gross_tonnage    Length   Breadth\n",
       "Speed          1.000000       0.202624  0.306770  0.295732\n",
       "Gross_tonnage  0.202624       1.000000  0.911205  0.954331\n",
       "Length         0.306770       0.911205  1.000000  0.964007\n",
       "Breadth        0.295732       0.954331  0.964007  1.000000"
      ]
     },
     "metadata": {},
     "output_type": "display_data"
    },
    {
     "name": "stdout",
     "output_type": "stream",
     "text": [
      "Heatmap for the Pearson matrix with cleaned dataset:\n"
     ]
    },
    {
     "data": {
      "text/plain": [
       "<AxesSubplot:>"
      ]
     },
     "metadata": {},
     "output_type": "display_data"
    },
    {
     "data": {
      "image/png": "[encoded data removed]",
      "text/plain": [
       "<Figure size 432x288 with 2 Axes>"
      ]
     },
     "metadata": {
      "needs_background": "light"
     },
     "output_type": "display_data"
    }
   ],
   "source": [
    "#Pearson's\n",
    "print(\"Pearson's correlation:\")\n",
    "display(df_new.corr(method='pearson'))\n",
    "print(\"Pearson's correlation for the cleaned dataset:\")\n",
    "display(df_filtered.corr(method='pearson'))\n",
    "print(\"Heatmap for the Pearson matrix with cleaned dataset:\")\n",
    "display(sns.heatmap(df_filtered.corr(method='pearson')))\n"
   ]
  },
  {
   "cell_type": "code",
   "execution_count": 188,
   "metadata": {},
   "outputs": [
    {
     "name": "stdout",
     "output_type": "stream",
     "text": [
      "Spearman's rho:\n"
     ]
    },
    {
     "data": {
      "text/html": [
       "<div>\n",
       "<style scoped>\n",
       "    .dataframe tbody tr th:only-of-type {\n",
       "        vertical-align: middle;\n",
       "    }\n",
       "\n",
       "    .dataframe tbody tr th {\n",
       "        vertical-align: top;\n",
       "    }\n",
       "\n",
       "    .dataframe thead th {\n",
       "        text-align: right;\n",
       "    }\n",
       "</style>\n",
       "<table border=\"1\" class=\"dataframe\">\n",
       "  <thead>\n",
       "    <tr style=\"text-align: right;\">\n",
       "      <th></th>\n",
       "      <th>Speed</th>\n",
       "      <th>Gross_tonnage</th>\n",
       "      <th>Length</th>\n",
       "      <th>Breadth</th>\n",
       "    </tr>\n",
       "  </thead>\n",
       "  <tbody>\n",
       "    <tr>\n",
       "      <th>Speed</th>\n",
       "      <td>1.000000</td>\n",
       "      <td>0.445950</td>\n",
       "      <td>0.404894</td>\n",
       "      <td>0.458942</td>\n",
       "    </tr>\n",
       "    <tr>\n",
       "      <th>Gross_tonnage</th>\n",
       "      <td>0.445950</td>\n",
       "      <td>1.000000</td>\n",
       "      <td>0.952372</td>\n",
       "      <td>0.951953</td>\n",
       "    </tr>\n",
       "    <tr>\n",
       "      <th>Length</th>\n",
       "      <td>0.404894</td>\n",
       "      <td>0.952372</td>\n",
       "      <td>1.000000</td>\n",
       "      <td>0.967081</td>\n",
       "    </tr>\n",
       "    <tr>\n",
       "      <th>Breadth</th>\n",
       "      <td>0.458942</td>\n",
       "      <td>0.951953</td>\n",
       "      <td>0.967081</td>\n",
       "      <td>1.000000</td>\n",
       "    </tr>\n",
       "  </tbody>\n",
       "</table>\n",
       "</div>"
      ],
      "text/plain": [
       "                  Speed  Gross_tonnage    Length   Breadth\n",
       "Speed          1.000000       0.445950  0.404894  0.458942\n",
       "Gross_tonnage  0.445950       1.000000  0.952372  0.951953\n",
       "Length         0.404894       0.952372  1.000000  0.967081\n",
       "Breadth        0.458942       0.951953  0.967081  1.000000"
      ]
     },
     "metadata": {},
     "output_type": "display_data"
    },
    {
     "name": "stdout",
     "output_type": "stream",
     "text": [
      "Spearman's rho for the cleaned dataset:\n"
     ]
    },
    {
     "data": {
      "text/html": [
       "<div>\n",
       "<style scoped>\n",
       "    .dataframe tbody tr th:only-of-type {\n",
       "        vertical-align: middle;\n",
       "    }\n",
       "\n",
       "    .dataframe tbody tr th {\n",
       "        vertical-align: top;\n",
       "    }\n",
       "\n",
       "    .dataframe thead th {\n",
       "        text-align: right;\n",
       "    }\n",
       "</style>\n",
       "<table border=\"1\" class=\"dataframe\">\n",
       "  <thead>\n",
       "    <tr style=\"text-align: right;\">\n",
       "      <th></th>\n",
       "      <th>Speed</th>\n",
       "      <th>Gross_tonnage</th>\n",
       "      <th>Length</th>\n",
       "      <th>Breadth</th>\n",
       "    </tr>\n",
       "  </thead>\n",
       "  <tbody>\n",
       "    <tr>\n",
       "      <th>Speed</th>\n",
       "      <td>1.000000</td>\n",
       "      <td>0.455025</td>\n",
       "      <td>0.401185</td>\n",
       "      <td>0.456648</td>\n",
       "    </tr>\n",
       "    <tr>\n",
       "      <th>Gross_tonnage</th>\n",
       "      <td>0.455025</td>\n",
       "      <td>1.000000</td>\n",
       "      <td>0.980322</td>\n",
       "      <td>0.983340</td>\n",
       "    </tr>\n",
       "    <tr>\n",
       "      <th>Length</th>\n",
       "      <td>0.401185</td>\n",
       "      <td>0.980322</td>\n",
       "      <td>1.000000</td>\n",
       "      <td>0.966442</td>\n",
       "    </tr>\n",
       "    <tr>\n",
       "      <th>Breadth</th>\n",
       "      <td>0.456648</td>\n",
       "      <td>0.983340</td>\n",
       "      <td>0.966442</td>\n",
       "      <td>1.000000</td>\n",
       "    </tr>\n",
       "  </tbody>\n",
       "</table>\n",
       "</div>"
      ],
      "text/plain": [
       "                  Speed  Gross_tonnage    Length   Breadth\n",
       "Speed          1.000000       0.455025  0.401185  0.456648\n",
       "Gross_tonnage  0.455025       1.000000  0.980322  0.983340\n",
       "Length         0.401185       0.980322  1.000000  0.966442\n",
       "Breadth        0.456648       0.983340  0.966442  1.000000"
      ]
     },
     "metadata": {},
     "output_type": "display_data"
    },
    {
     "name": "stdout",
     "output_type": "stream",
     "text": [
      "Heatmap for the Spearman's rho with cleaned dataset:\n"
     ]
    },
    {
     "data": {
      "text/plain": [
       "<AxesSubplot:>"
      ]
     },
     "metadata": {},
     "output_type": "display_data"
    },
    {
     "data": {
      "image/png": "[encoded data removed]",
      "text/plain": [
       "<Figure size 432x288 with 2 Axes>"
      ]
     },
     "metadata": {
      "needs_background": "light"
     },
     "output_type": "display_data"
    }
   ],
   "source": [
    "#Spearman's\n",
    "print(\"Spearman's rho:\")\n",
    "display(df_new.corr(method='spearman'))\n",
    "print(\"Spearman's rho for the cleaned dataset:\")\n",
    "display(df_filtered.corr(method='spearman'))\n",
    "print(\"Heatmap for the Spearman's rho with cleaned dataset:\")\n",
    "display(sns.heatmap(df_filtered.corr(method='spearman')))"
   ]
  },
  {
   "cell_type": "code",
   "execution_count": 189,
   "metadata": {},
   "outputs": [
    {
     "name": "stdout",
     "output_type": "stream",
     "text": [
      "Kendall's tau:\n"
     ]
    },
    {
     "data": {
      "text/html": [
       "<div>\n",
       "<style scoped>\n",
       "    .dataframe tbody tr th:only-of-type {\n",
       "        vertical-align: middle;\n",
       "    }\n",
       "\n",
       "    .dataframe tbody tr th {\n",
       "        vertical-align: top;\n",
       "    }\n",
       "\n",
       "    .dataframe thead th {\n",
       "        text-align: right;\n",
       "    }\n",
       "</style>\n",
       "<table border=\"1\" class=\"dataframe\">\n",
       "  <thead>\n",
       "    <tr style=\"text-align: right;\">\n",
       "      <th></th>\n",
       "      <th>Speed</th>\n",
       "      <th>Gross_tonnage</th>\n",
       "      <th>Length</th>\n",
       "      <th>Breadth</th>\n",
       "    </tr>\n",
       "  </thead>\n",
       "  <tbody>\n",
       "    <tr>\n",
       "      <th>Speed</th>\n",
       "      <td>1.000000</td>\n",
       "      <td>0.314177</td>\n",
       "      <td>0.283438</td>\n",
       "      <td>0.321758</td>\n",
       "    </tr>\n",
       "    <tr>\n",
       "      <th>Gross_tonnage</th>\n",
       "      <td>0.314177</td>\n",
       "      <td>1.000000</td>\n",
       "      <td>0.874323</td>\n",
       "      <td>0.888367</td>\n",
       "    </tr>\n",
       "    <tr>\n",
       "      <th>Length</th>\n",
       "      <td>0.283438</td>\n",
       "      <td>0.874323</td>\n",
       "      <td>1.000000</td>\n",
       "      <td>0.866917</td>\n",
       "    </tr>\n",
       "    <tr>\n",
       "      <th>Breadth</th>\n",
       "      <td>0.321758</td>\n",
       "      <td>0.888367</td>\n",
       "      <td>0.866917</td>\n",
       "      <td>1.000000</td>\n",
       "    </tr>\n",
       "  </tbody>\n",
       "</table>\n",
       "</div>"
      ],
      "text/plain": [
       "                  Speed  Gross_tonnage    Length   Breadth\n",
       "Speed          1.000000       0.314177  0.283438  0.321758\n",
       "Gross_tonnage  0.314177       1.000000  0.874323  0.888367\n",
       "Length         0.283438       0.874323  1.000000  0.866917\n",
       "Breadth        0.321758       0.888367  0.866917  1.000000"
      ]
     },
     "metadata": {},
     "output_type": "display_data"
    },
    {
     "name": "stdout",
     "output_type": "stream",
     "text": [
      "Kendall's tau for the cleaned dataset:\n"
     ]
    },
    {
     "data": {
      "text/html": [
       "<div>\n",
       "<style scoped>\n",
       "    .dataframe tbody tr th:only-of-type {\n",
       "        vertical-align: middle;\n",
       "    }\n",
       "\n",
       "    .dataframe tbody tr th {\n",
       "        vertical-align: top;\n",
       "    }\n",
       "\n",
       "    .dataframe thead th {\n",
       "        text-align: right;\n",
       "    }\n",
       "</style>\n",
       "<table border=\"1\" class=\"dataframe\">\n",
       "  <thead>\n",
       "    <tr style=\"text-align: right;\">\n",
       "      <th></th>\n",
       "      <th>Speed</th>\n",
       "      <th>Gross_tonnage</th>\n",
       "      <th>Length</th>\n",
       "      <th>Breadth</th>\n",
       "    </tr>\n",
       "  </thead>\n",
       "  <tbody>\n",
       "    <tr>\n",
       "      <th>Speed</th>\n",
       "      <td>1.000000</td>\n",
       "      <td>0.320911</td>\n",
       "      <td>0.281343</td>\n",
       "      <td>0.320707</td>\n",
       "    </tr>\n",
       "    <tr>\n",
       "      <th>Gross_tonnage</th>\n",
       "      <td>0.320911</td>\n",
       "      <td>1.000000</td>\n",
       "      <td>0.896770</td>\n",
       "      <td>0.912503</td>\n",
       "    </tr>\n",
       "    <tr>\n",
       "      <th>Length</th>\n",
       "      <td>0.281343</td>\n",
       "      <td>0.896770</td>\n",
       "      <td>1.000000</td>\n",
       "      <td>0.866267</td>\n",
       "    </tr>\n",
       "    <tr>\n",
       "      <th>Breadth</th>\n",
       "      <td>0.320707</td>\n",
       "      <td>0.912503</td>\n",
       "      <td>0.866267</td>\n",
       "      <td>1.000000</td>\n",
       "    </tr>\n",
       "  </tbody>\n",
       "</table>\n",
       "</div>"
      ],
      "text/plain": [
       "                  Speed  Gross_tonnage    Length   Breadth\n",
       "Speed          1.000000       0.320911  0.281343  0.320707\n",
       "Gross_tonnage  0.320911       1.000000  0.896770  0.912503\n",
       "Length         0.281343       0.896770  1.000000  0.866267\n",
       "Breadth        0.320707       0.912503  0.866267  1.000000"
      ]
     },
     "metadata": {},
     "output_type": "display_data"
    },
    {
     "name": "stdout",
     "output_type": "stream",
     "text": [
      "Heatmap for Kendall's tau with cleaned dataset:\n"
     ]
    },
    {
     "data": {
      "text/plain": [
       "<AxesSubplot:>"
      ]
     },
     "metadata": {},
     "output_type": "display_data"
    },
    {
     "data": {
      "image/png": "[encoded data removed]",
      "text/plain": [
       "<Figure size 432x288 with 2 Axes>"
      ]
     },
     "metadata": {
      "needs_background": "light"
     },
     "output_type": "display_data"
    }
   ],
   "source": [
    "\n",
    "#Kendall's\n",
    "print(\"Kendall's tau:\")\n",
    "display(df_new.corr(method='kendall'))\n",
    "print(\"Kendall's tau for the cleaned dataset:\")\n",
    "display(df_filtered.corr(method='kendall'))\n",
    "print(\"Heatmap for Kendall's tau with cleaned dataset:\")\n",
    "display(sns.heatmap(df_filtered.corr(method='kendall')))"
   ]
  },
  {
   "cell_type": "markdown",
   "metadata": {},
   "source": [
    "As noticed below, the correlation between attributes that indicate ship size is strong. However, we can also notice that speed does not relate to the ship size at all.\n",
    "\n",
    "Slight differences between each matrices can be seen after taking out the interesting low breadth but high gross tonnage ship outlier ship.\n",
    "\n",
    "Overall the ship dataset shows us results that make sense and are expected. Ships with high breadth and more length usually have higher gross tonnage (internal volume). The ships speeds won't tell us much about the ships, since they probably have to follow some speed limits, at least near the coast."
   ]
  },
  {
   "cell_type": "markdown",
   "metadata": {
    "id": "bea2hNxp3BPv"
   },
   "source": [
    "____________\n",
    "## <font color = dollargreen >   10. BONUS Dimensionality reduction</font>  \n",
    "- <font color = red> Answers that only state what you can see are not enough. </font> You need to explain _why_ rather than what and demonstrate you understand what you are doing. By copypasting code from stackoverflow you will not learn much.\n",
    "____________"
   ]
  },
  {
   "cell_type": "markdown",
   "metadata": {
    "id": "4mco9ZWp3BPv"
   },
   "source": [
    "- **a)** Explain what principal component analysis is."
   ]
  },
  {
   "cell_type": "markdown",
   "metadata": {},
   "source": [
    "<font color = red> \\*** Answer here *** </font>"
   ]
  },
  {
   "cell_type": "markdown",
   "metadata": {
    "id": "4mco9ZWp3BPv"
   },
   "source": [
    "- **b)** Do it with and without z-score standardization. "
   ]
  },
  {
   "cell_type": "code",
   "execution_count": 190,
   "metadata": {
    "id": "oa097acT3BPv",
    "outputId": "b23730b5-ba9c-4a73-d6bd-7498ae8d8ad8",
    "scrolled": true
   },
   "outputs": [],
   "source": [
    "# Script: PCA with z-score standardization"
   ]
  },
  {
   "cell_type": "code",
   "execution_count": 191,
   "metadata": {},
   "outputs": [],
   "source": [
    "# Script: PCA without z-score standardization"
   ]
  },
  {
   "cell_type": "markdown",
   "metadata": {
    "id": "4mco9ZWp3BPv"
   },
   "source": [
    "- **c)** Visualize the results with a scatter plot by projecting the data to the first two principal components."
   ]
  },
  {
   "cell_type": "code",
   "execution_count": 192,
   "metadata": {},
   "outputs": [],
   "source": [
    "# Script: Plot principal components"
   ]
  },
  {
   "cell_type": "markdown",
   "metadata": {
    "id": "4mco9ZWp3BPv"
   },
   "source": [
    "- **d)** How much of the variation is explained with the two principal components? What do you think this means? Where does the variation come from? "
   ]
  },
  {
   "cell_type": "code",
   "execution_count": 193,
   "metadata": {},
   "outputs": [],
   "source": [
    "# Script: Explore variation"
   ]
  },
  {
   "cell_type": "markdown",
   "metadata": {},
   "source": [
    "<font color = red> \\*** Answer here *** </font>"
   ]
  }
 ],
 "metadata": {
  "colab": {
   "name": "DADK_exercise_2_2021.ipynb",
   "provenance": []
  },
  "interpreter": {
   "hash": "63fd5069d213b44bf678585dea6b12cceca9941eaf7f819626cde1f2670de90d"
  },
  "kernelspec": {
   "display_name": "Python 3.9.1 64-bit",
   "language": "python",
   "name": "python3"
  },
  "language_info": {
   "codemirror_mode": {
    "name": "ipython",
    "version": 3
   },
   "file_extension": ".py",
   "mimetype": "text/x-python",
   "name": "python",
   "nbconvert_exporter": "python",
   "pygments_lexer": "ipython3",
   "version": "3.9.1"
  },
  "metadata": {
   "interpreter": {
    "hash": "63fd5069d213b44bf678585dea6b12cceca9941eaf7f819626cde1f2670de90d"
   }
  },
  "toc": {
   "base_numbering": 1,
   "nav_menu": {
    "height": "180px",
    "width": "160px"
   },
   "number_sections": false,
   "sideBar": true,
   "skip_h1_title": true,
   "title_cell": "Table of Contents",
   "title_sidebar": "Contents",
   "toc_cell": false,
   "toc_position": {},
   "toc_section_display": true,
   "toc_window_display": true
  }
 },
 "nbformat": 4,
 "nbformat_minor": 1
}
